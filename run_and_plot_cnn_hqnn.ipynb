{
 "cells": [
  {
   "cell_type": "markdown",
   "metadata": {},
   "source": [
    "## Creating and running the CNN or HQNN models on the plant leaves dataset\n",
    "\n",
    "CNN/HQNN setup: Code in hybrid_nn.py. Core features are:\n",
    "- 2 CNN layers with batch normalization followed by pooling \n",
    "- 2 fully connected linear layers for the classical route\n",
    "- Linear layer -> quantum layer -> linear layer for the hybrid-quantum route\n",
    "- Base parameters like learning rate, batch size, etc. are pre-defined in config.yml\n",
    "- The network was set up to be simple enough to allow the incorporation of a quantum layer to significantly impact the model's capability to learn patterns in the dataset. \n",
    "\n",
    "<br>\n",
    "\n",
    "Training algorithm: See model_setup.py for the code. Core features are:\n",
    "- CrossEntropyLoss for classifying multiple leaf categories\n",
    "- Batch processing followed by accuracy metrics per epoch on the entire train and test data\n",
    "- Learning rate scheduling (starts high and reduces by half every step_size=10 epochs)\n",
    "- Gradient clipping to prevent exploding gradients common in hybrid-quantum setups\n",
    "- Early stopping from trainig plateaus or nearing overfitting when training accuracy reaches above 99.5%\n",
    "\n",
    "<br>\n",
    "\n",
    "Wrapper function build_and_run_nn()\n",
    "- Classical CNN - pass None for qubit_count and quantum_layer_args\n",
    "- HQNN with a quantum layer - include the above arguments"
   ]
  },
  {
   "cell_type": "code",
   "execution_count": 1,
   "metadata": {},
   "outputs": [],
   "source": [
    "import numpy as np\n",
    "import pandas as pd\n",
    "import matplotlib.pyplot as plt\n",
    "import torch\n",
    "import cudaq\n",
    "from cudaq import spin\n",
    "from src.model_builder import build_and_run_nn\n",
    "from src.utils.model_utils.quantum_layer import QuantumFunction"
   ]
  },
  {
   "cell_type": "markdown",
   "metadata": {},
   "source": [
    "### Classical CNN notes:\n",
    "\n",
    "Datset size: The dataset is not large (~1500 samples for the 5 leaf labels chosen in config.yml). \n",
    "- These 5 leaves were chosen as they were the most visually distinct and differences between them could be captured by this relatively simple CNN setup. \n",
    "- However, with this few of samples, the CNN tends to memorize the dataset. Dropout, batch normalization, & limiting the number of linear neurons help significantly to reduce overfitting.\n",
    "- A larger data set would be better, but the purpose of this is to test if a HQNN reaches similar results to the CNN\n",
    "    - And if so, how complex does the quantum layer's kernel & hamiltonians need to be?"
   ]
  },
  {
   "cell_type": "code",
   "execution_count": null,
   "metadata": {},
   "outputs": [
    {
     "name": "stdout",
     "output_type": "stream",
     "text": [
      "Number of classes 5\n",
      "Y values (tensor(0), tensor(4))\n",
      "\n",
      "Epoch 0, Learning Rate: 0.0001\n"
     ]
    },
    {
     "name": "stderr",
     "output_type": "stream",
     "text": [
      "epoch 0: 100%|██████████| 30/30 [00:06<00:00,  4.31batch/s, acc=0.471, loss=1.32]\n"
     ]
    },
    {
     "name": "stdout",
     "output_type": "stream",
     "text": [
      "Training accuracy (all samples) = 0.434\n",
      "Test accuracy = 0.453\n",
      "\n",
      "Epoch 1, Learning Rate: 0.0001\n"
     ]
    },
    {
     "name": "stderr",
     "output_type": "stream",
     "text": [
      "epoch 1: 100%|██████████| 30/30 [00:07<00:00,  4.15batch/s, acc=0.706, loss=0.631]\n"
     ]
    },
    {
     "name": "stdout",
     "output_type": "stream",
     "text": [
      "Training accuracy (all samples) = 0.724\n",
      "Test accuracy = 0.688\n",
      "\n",
      "Epoch 2, Learning Rate: 0.0001\n"
     ]
    },
    {
     "name": "stderr",
     "output_type": "stream",
     "text": [
      "epoch 2: 100%|██████████| 30/30 [00:07<00:00,  4.12batch/s, acc=0.882, loss=0.192]\n"
     ]
    },
    {
     "name": "stdout",
     "output_type": "stream",
     "text": [
      "Training accuracy (all samples) = 0.923\n",
      "Test accuracy = 0.835\n",
      "\n",
      "Epoch 3, Learning Rate: 0.0001\n"
     ]
    },
    {
     "name": "stderr",
     "output_type": "stream",
     "text": [
      "epoch 3: 100%|██████████| 30/30 [00:07<00:00,  3.94batch/s, acc=0.882, loss=0.23]\n"
     ]
    },
    {
     "name": "stdout",
     "output_type": "stream",
     "text": [
      "Training accuracy (all samples) = 0.956\n",
      "Test accuracy = 0.857\n",
      "\n",
      "Epoch 4, Learning Rate: 0.0001\n"
     ]
    },
    {
     "name": "stderr",
     "output_type": "stream",
     "text": [
      "epoch 4: 100%|██████████| 30/30 [00:07<00:00,  4.11batch/s, acc=0.765, loss=0.334]\n"
     ]
    },
    {
     "name": "stdout",
     "output_type": "stream",
     "text": [
      "Training accuracy (all samples) = 0.970\n",
      "Test accuracy = 0.870\n",
      "\n",
      "Epoch 5, Learning Rate: 0.0001\n"
     ]
    },
    {
     "name": "stderr",
     "output_type": "stream",
     "text": [
      "epoch 5: 100%|██████████| 30/30 [00:07<00:00,  3.95batch/s, acc=0.882, loss=0.287]\n"
     ]
    },
    {
     "name": "stdout",
     "output_type": "stream",
     "text": [
      "Training accuracy (all samples) = 0.980\n",
      "Test accuracy = 0.868\n",
      "\n",
      "Epoch 6, Learning Rate: 0.0001\n"
     ]
    },
    {
     "name": "stderr",
     "output_type": "stream",
     "text": [
      "epoch 6: 100%|██████████| 30/30 [00:07<00:00,  4.17batch/s, acc=0.941, loss=0.224]\n"
     ]
    },
    {
     "name": "stdout",
     "output_type": "stream",
     "text": [
      "Training accuracy (all samples) = 0.980\n",
      "Test accuracy = 0.876\n",
      "\n",
      "Epoch 7, Learning Rate: 0.0001\n"
     ]
    },
    {
     "name": "stderr",
     "output_type": "stream",
     "text": [
      "epoch 7: 100%|██████████| 30/30 [00:07<00:00,  4.03batch/s, acc=0.882, loss=0.287]\n"
     ]
    },
    {
     "name": "stdout",
     "output_type": "stream",
     "text": [
      "Training accuracy (all samples) = 0.983\n",
      "Test accuracy = 0.884\n",
      "\n",
      "Epoch 8, Learning Rate: 0.0001\n"
     ]
    },
    {
     "name": "stderr",
     "output_type": "stream",
     "text": [
      "epoch 8: 100%|██████████| 30/30 [00:07<00:00,  4.07batch/s, acc=1, loss=0.0544]  \n"
     ]
    },
    {
     "name": "stdout",
     "output_type": "stream",
     "text": [
      "Training accuracy (all samples) = 0.983\n",
      "Test accuracy = 0.878\n",
      "\n",
      "Epoch 9, Learning Rate: 0.0001\n"
     ]
    },
    {
     "name": "stderr",
     "output_type": "stream",
     "text": [
      "epoch 9: 100%|██████████| 30/30 [00:07<00:00,  4.09batch/s, acc=0.882, loss=0.404]\n"
     ]
    },
    {
     "name": "stdout",
     "output_type": "stream",
     "text": [
      "Training accuracy (all samples) = 0.984\n",
      "Test accuracy = 0.871\n",
      "\n",
      "Epoch 10, Learning Rate: 5e-05\n"
     ]
    },
    {
     "name": "stderr",
     "output_type": "stream",
     "text": [
      "epoch 10: 100%|██████████| 30/30 [00:07<00:00,  4.08batch/s, acc=0.882, loss=0.605]\n"
     ]
    },
    {
     "name": "stdout",
     "output_type": "stream",
     "text": [
      "Training accuracy (all samples) = 0.988\n",
      "Test accuracy = 0.870\n",
      "\n",
      "Epoch 11, Learning Rate: 5e-05\n"
     ]
    },
    {
     "name": "stderr",
     "output_type": "stream",
     "text": [
      "epoch 11: 100%|██████████| 30/30 [00:07<00:00,  4.07batch/s, acc=0.765, loss=0.515]\n"
     ]
    },
    {
     "name": "stdout",
     "output_type": "stream",
     "text": [
      "Training accuracy (all samples) = 0.990\n",
      "Test accuracy = 0.876\n",
      "\n",
      "Epoch 12, Learning Rate: 5e-05\n"
     ]
    },
    {
     "name": "stderr",
     "output_type": "stream",
     "text": [
      "epoch 12: 100%|██████████| 30/30 [00:07<00:00,  4.06batch/s, acc=1, loss=0.0123]   \n"
     ]
    },
    {
     "name": "stdout",
     "output_type": "stream",
     "text": [
      "Training accuracy (all samples) = 0.991\n",
      "Test accuracy = 0.881\n",
      "\n",
      "Epoch 13, Learning Rate: 5e-05\n"
     ]
    },
    {
     "name": "stderr",
     "output_type": "stream",
     "text": [
      "epoch 13: 100%|██████████| 30/30 [00:07<00:00,  3.92batch/s, acc=0.941, loss=0.124]\n"
     ]
    },
    {
     "name": "stdout",
     "output_type": "stream",
     "text": [
      "Training accuracy (all samples) = 0.993\n",
      "Test accuracy = 0.886\n",
      "\n",
      "Epoch 14, Learning Rate: 5e-05\n"
     ]
    },
    {
     "name": "stderr",
     "output_type": "stream",
     "text": [
      "epoch 14: 100%|██████████| 30/30 [00:07<00:00,  3.99batch/s, acc=0.824, loss=0.205]\n"
     ]
    },
    {
     "name": "stdout",
     "output_type": "stream",
     "text": [
      "Training accuracy (all samples) = 0.995\n",
      "Test accuracy = 0.878\n",
      "\n",
      "Epoch 15, Learning Rate: 5e-05\n"
     ]
    },
    {
     "name": "stderr",
     "output_type": "stream",
     "text": [
      "epoch 15: 100%|██████████| 30/30 [00:07<00:00,  4.09batch/s, acc=0.824, loss=0.627]\n"
     ]
    },
    {
     "name": "stdout",
     "output_type": "stream",
     "text": [
      "Training accuracy (all samples) = 0.995\n",
      "Test accuracy = 0.887\n",
      "\n",
      "Epoch 16, Learning Rate: 5e-05\n"
     ]
    },
    {
     "name": "stderr",
     "output_type": "stream",
     "text": [
      "epoch 16: 100%|██████████| 30/30 [00:07<00:00,  4.01batch/s, acc=0.941, loss=0.12] \n"
     ]
    },
    {
     "name": "stdout",
     "output_type": "stream",
     "text": [
      "Training accuracy (all samples) = 0.995\n",
      "Test accuracy = 0.887\n",
      "\n",
      "Epoch 17, Learning Rate: 5e-05\n"
     ]
    },
    {
     "name": "stderr",
     "output_type": "stream",
     "text": [
      "epoch 17: 100%|██████████| 30/30 [00:07<00:00,  3.98batch/s, acc=1, loss=0.0383]   \n"
     ]
    },
    {
     "name": "stdout",
     "output_type": "stream",
     "text": [
      "Training accuracy (all samples) = 0.993\n",
      "Test accuracy = 0.881\n",
      "\n",
      "Epoch 18, Learning Rate: 5e-05\n"
     ]
    },
    {
     "name": "stderr",
     "output_type": "stream",
     "text": [
      "epoch 18: 100%|██████████| 30/30 [00:07<00:00,  4.16batch/s, acc=0.941, loss=0.0832]\n"
     ]
    },
    {
     "name": "stdout",
     "output_type": "stream",
     "text": [
      "Training accuracy (all samples) = 0.993\n",
      "Test accuracy = 0.882\n",
      "\n",
      "Epoch 19, Learning Rate: 5e-05\n"
     ]
    },
    {
     "name": "stderr",
     "output_type": "stream",
     "text": [
      "epoch 19: 100%|██████████| 30/30 [00:07<00:00,  4.08batch/s, acc=0.824, loss=0.619]\n"
     ]
    },
    {
     "name": "stdout",
     "output_type": "stream",
     "text": [
      "Training accuracy (all samples) = 0.995\n",
      "Test accuracy = 0.874\n",
      "\n",
      "Early stopping at epoch 19, training accuracy > 99.5%.\n",
      "Saved neural network fitting results and model to ./data/traditional_nn_1744913895\n"
     ]
    }
   ],
   "source": [
    "# Run the wrapper function to load augmented dataset & run CNN/HQNN\n",
    "\n",
    "# Classical ex.\n",
    "training_params = {\n",
    "    'learning_rate_init': 0.0001,\n",
    "    'l2_regularization': 0.001,\n",
    "    'epochs': 1000,\n",
    "    'early_stopping': 25,\n",
    "    'batch_size': 50,\n",
    "    'dropout': 0.5\n",
    "}\n",
    "\n",
    "cnn_fc_layers = {\n",
    "    'conv_channels_1':32, \n",
    "    'conv_channels_2':64,\n",
    "    'fc_neurons_1':128, \n",
    "    'fc_neurons_2':64, \n",
    "}\n",
    "\n",
    "result = build_and_run_nn('categories', \n",
    "                          cnn_fc_layer_args=cnn_fc_layers,\n",
    "                          quantum_layer_args=None,\n",
    "                          training_params=training_params)"
   ]
  },
  {
   "cell_type": "code",
   "execution_count": null,
   "metadata": {},
   "outputs": [
    {
     "name": "stdout",
     "output_type": "stream",
     "text": [
      "HybridNN(\n",
      "  (conv1): Conv2d(3, 32, kernel_size=(3, 3), stride=(1, 1), padding=(1, 1))\n",
      "  (bn1): BatchNorm2d(32, eps=1e-05, momentum=0.1, affine=True, track_running_stats=True)\n",
      "  (pool): MaxPool2d(kernel_size=2, stride=2, padding=0, dilation=1, ceil_mode=False)\n",
      "  (conv2): Conv2d(32, 64, kernel_size=(3, 3), stride=(1, 1), padding=(1, 1))\n",
      "  (bn2): BatchNorm2d(64, eps=1e-05, momentum=0.1, affine=True, track_running_stats=True)\n",
      "  (fc1): Linear(in_features=161280, out_features=128, bias=True)\n",
      "  (fc2): Linear(in_features=128, out_features=64, bias=True)\n",
      "  (fc_out): Linear(in_features=64, out_features=5, bias=True)\n",
      "  (dropout): Dropout(p=0.5, inplace=False)\n",
      ")\n"
     ]
    },
    {
     "data": {
      "image/png": "[encoded data removed]",
      "text/plain": [
       "<Figure size 1000x500 with 2 Axes>"
      ]
     },
     "metadata": {},
     "output_type": "display_data"
    }
   ],
   "source": [
    "file_name = result[-1]\n",
    "print(result[-2])\n",
    "\n",
    "df = pd.read_csv(file_name + '.csv')\n",
    "\n",
    "plt.figure(figsize=(10, 5))\n",
    "plt.subplot(1, 2, 1)\n",
    "plt.plot(df['training_cost'], label='Train')\n",
    "plt.plot(df['testing_cost'], label='Test')\n",
    "plt.xlabel('Epochs')\n",
    "plt.ylabel('Cost')\n",
    "plt.legend()\n",
    "plt.xlim(0,)\n",
    "plt.ylim(0,)\n",
    "\n",
    "plt.subplot(1, 2, 2)\n",
    "plt.plot(df['training_accuracy'], label='Train')\n",
    "plt.plot(df['testing_accuracy'], label='Test')\n",
    "plt.xlabel('Epochs')\n",
    "plt.ylabel('Accuracy')\n",
    "plt.legend()\n",
    "plt.xlim(0,)\n",
    "plt.ylim(0,1.01)\n",
    "\n",
    "plt.tight_layout()\n",
    "plt.show()"
   ]
  },
  {
   "cell_type": "markdown",
   "metadata": {},
   "source": [
    "### HQNN notes (work-in-progress)\n",
    "Overall:\n",
    "The first HQNN setup is working and training, albeit at a slower pace than the classical CNN above and with poorer accuracy (capping out near 0.5). Fine tuning the quantum layer's kernel and measurement hamiltonians are the prime parameters that need to be altered. Some key points about this HQNN setup:\n",
    "\n",
    "- Qubits are initialized, angle encoded, and then entangled\n",
    "    - n_qubits = 5, mimics the 5 leaf classes being categorized in this example.\n",
    "    - 2 angles (rx and ry) are encoded from 2 inputs per qubit from the preceeding NN linear layer.\n",
    "    - Entangling after encoding allows for feature mixing.\n",
    "- Training in early epochs is quite noisy until it plateaus\n",
    "    - Expcted as small shifts in input parameters into the quantum layer can drastically impact expectation value outputs even with simple Pauli-Z hamiltonians.\n",
    "    - The losses do trend downward with each epoch.\n",
    "    - Learning rate (LR) scheduling helps to find a good LR region in which the quantum parameters can learn. Usually this is with smaller LR's than in conventional neural networks.\n",
    "- Gradients are non-zero and flowing through the quantum circuit, however:\n",
    "    - The current combination of hamiltonians & quantum kernel is not expressive enough to adapt to 5 classes, resulting in a training plateau around 0.5 accuracy. This is still better than randomly selecting 1 out of the 5 classes, where the plateau would be around 0.2.\n",
    "- Minor changes in the hamiltonians and/or cudaq kernel can have drastic impacts on the model.\n",
    "    - e.g., changing hamiltonians from Pauli-Z=spin.z(x) to Pauli-Z * Pauli-X=spin.z(0)*spin.x(0) makes the outputs of the quantum layer almost always 0. This completely inhibits training.\n",
    "    - Adding/removing entanglement (current iteration - entangles via first qubit as shown below) does not seem to have a significant impact on training capacity. \n",
    "\n",
    "<br> \n",
    "<br>\n",
    "\n",
    "In progress:\n",
    "Working on altering the quantum kernel more to find more robust non-linear transformations at <br> \n",
    "1. the cudaq.kernel with more exotic entanglements  <br>\n",
    "2. the measurement hamiltonians with more complex and orthogonal outputs.  <br>\n",
    "\n",
    "A fine tuned balance here, while keeping n_qubits constant at n_classes, is likely to lead to a better performing model. This is being balanced with not over-complicating the kernel or hamiltonians, as the more complex these become, the more complex the simulation of the qubits becomes on the CUDA-Q backend, increasing training time significantly. \n",
    "\n",
    "(Note: CUDA-Q can connect to real quantum computer API's if simulating on a local cpu/gpu is insufficient.)"
   ]
  },
  {
   "cell_type": "markdown",
   "metadata": {},
   "source": [
    "#### HQNN example 1 - expressive enough to train\n",
    "- Combination of Hamiltonian & Quantum Kernel in the quantum layer allows this setup to train to an accuracy ~0.5"
   ]
  },
  {
   "cell_type": "code",
   "execution_count": null,
   "metadata": {},
   "outputs": [
    {
     "name": "stdout",
     "output_type": "stream",
     "text": [
      "Example drawing of the quantum kernel at the heart of the quantum layer. \n",
      "Inputs from the previous linear layer get encoded as rotations about y and rotations about x (ry & rx, respectively) for the 5 qubits. \n",
      "The qubits are then entangled, and measurements of the state of each qubit is evaluated with the above hamiltonians.\n",
      "     ╭─────────╮╭───────╮                     \n",
      "q0 : ┤ ry(0.1) ├┤ rx(6) ├───●────●────●────●──\n",
      "     ├─────────┤├───────┤ ╭─┴─╮  │    │    │  \n",
      "q1 : ┤ ry(0.2) ├┤ rx(7) ├─┤ x ├──┼────┼────┼──\n",
      "     ├─────────┤├───────┤ ╰───╯╭─┴─╮  │    │  \n",
      "q2 : ┤ ry(0.3) ├┤ rx(8) ├──────┤ x ├──┼────┼──\n",
      "     ├─────────┤├───────┤      ╰───╯╭─┴─╮  │  \n",
      "q3 : ┤ ry(0.4) ├┤ rx(9) ├───────────┤ x ├──┼──\n",
      "     ├─────────┤├───────┴╮          ╰───╯╭─┴─╮\n",
      "q4 : ┤ ry(0.5) ├┤ rx(10) ├───────────────┤ x ├\n",
      "     ╰─────────╯╰────────╯               ╰───╯\n",
      "\n"
     ]
    }
   ],
   "source": [
    "# Moderately expressive Hamiltonian + Kernel\n",
    "\n",
    "training_params = {\n",
    "    'learning_rate_init': 0.01,\n",
    "    'l2_regularization': 0.001,\n",
    "    'epochs': 1000,\n",
    "    'early_stopping': 25,\n",
    "    'batch_size': 100,\n",
    "    'dropout': 0.1\n",
    "}\n",
    "\n",
    "cnn_fc_layers = {\n",
    "    'conv_channels_1':32, \n",
    "    'conv_channels_2':64,\n",
    "    'fc_neurons_1':256, \n",
    "    'fc_neurons_2':0, \n",
    "}\n",
    "\n",
    "quantum_layer = {\n",
    "    'qubit_count': 5,\n",
    "    'hamiltonians': [spin.z(0), \n",
    "                     spin.z(1), \n",
    "                     spin.z(2), \n",
    "                     spin.z(3), \n",
    "                     spin.z(4)],\n",
    "    'shift': torch.tensor(torch.pi / 4),\n",
    "    'quantum_param_init_scale': 100.0,\n",
    "    'features_per_qubit': 2,\n",
    "    'n_classes': 5}\n",
    "\n",
    "\n",
    "print('''Example drawing of the quantum kernel at the heart of the quantum layer. \n",
    "Inputs from the previous linear layer get encoded as rotations about y and rotations about x (ry & rx, respectively) for the 5 qubits. \n",
    "The qubits are then entangled, and measurements of the state of each qubit is evaluated with the above hamiltonians.''')\n",
    "\n",
    "qf = QuantumFunction(5, quantum_layer.get('hamiltonians'), quantum_layer.get('features_per_qubit'))\n",
    "ry_ex = np.array([0.1,0.2,0.3,0.4,0.5])\n",
    "rx_ex = np.array([6,7,8,9,10])\n",
    "\n",
    "print(cudaq.draw(qf.kernel, ry_ex, rx_ex))\n",
    "\n"
   ]
  },
  {
   "cell_type": "code",
   "execution_count": null,
   "metadata": {},
   "outputs": [
    {
     "name": "stdout",
     "output_type": "stream",
     "text": [
      "Number of classes 5\n",
      "Y values (tensor(0), tensor(4))\n",
      "\n",
      "Epoch 0, Learning Rate: 0.01\n"
     ]
    },
    {
     "name": "stderr",
     "output_type": "stream",
     "text": [
      "epoch 0: 100%|██████████| 15/15 [00:28<00:00,  1.91s/batch, acc=0.179, loss=29.8]\n"
     ]
    },
    {
     "name": "stdout",
     "output_type": "stream",
     "text": [
      "Training accuracy (all samples) = 0.196\n",
      "Test accuracy = 0.210\n",
      "\n",
      "Epoch 1, Learning Rate: 0.01\n"
     ]
    },
    {
     "name": "stderr",
     "output_type": "stream",
     "text": [
      "epoch 1: 100%|██████████| 15/15 [00:29<00:00,  1.94s/batch, acc=0.239, loss=18.8]\n"
     ]
    },
    {
     "name": "stdout",
     "output_type": "stream",
     "text": [
      "Training accuracy (all samples) = 0.210\n",
      "Test accuracy = 0.216\n",
      "\n",
      "Epoch 2, Learning Rate: 0.01\n"
     ]
    },
    {
     "name": "stderr",
     "output_type": "stream",
     "text": [
      "epoch 2: 100%|██████████| 15/15 [00:28<00:00,  1.92s/batch, acc=0.239, loss=7.56]\n"
     ]
    },
    {
     "name": "stdout",
     "output_type": "stream",
     "text": [
      "Training accuracy (all samples) = 0.273\n",
      "Test accuracy = 0.275\n",
      "\n",
      "Epoch 3, Learning Rate: 0.01\n"
     ]
    },
    {
     "name": "stderr",
     "output_type": "stream",
     "text": [
      "epoch 3: 100%|██████████| 15/15 [00:28<00:00,  1.93s/batch, acc=0.269, loss=7.95]\n"
     ]
    },
    {
     "name": "stdout",
     "output_type": "stream",
     "text": [
      "Training accuracy (all samples) = 0.297\n",
      "Test accuracy = 0.266\n",
      "\n",
      "Epoch 4, Learning Rate: 0.01\n"
     ]
    },
    {
     "name": "stderr",
     "output_type": "stream",
     "text": [
      "epoch 4: 100%|██████████| 15/15 [00:29<00:00,  1.98s/batch, acc=0.239, loss=3.68]\n"
     ]
    },
    {
     "name": "stdout",
     "output_type": "stream",
     "text": [
      "Training accuracy (all samples) = 0.298\n",
      "Test accuracy = 0.318\n",
      "\n",
      "Epoch 5, Learning Rate: 0.01\n"
     ]
    },
    {
     "name": "stderr",
     "output_type": "stream",
     "text": [
      "epoch 5: 100%|██████████| 15/15 [00:29<00:00,  1.96s/batch, acc=0.254, loss=3.05]\n"
     ]
    },
    {
     "name": "stdout",
     "output_type": "stream",
     "text": [
      "Training accuracy (all samples) = 0.258\n",
      "Test accuracy = 0.246\n",
      "\n",
      "Epoch 6, Learning Rate: 0.01\n"
     ]
    },
    {
     "name": "stderr",
     "output_type": "stream",
     "text": [
      "epoch 6: 100%|██████████| 15/15 [00:29<00:00,  2.00s/batch, acc=0.164, loss=4.37]\n"
     ]
    },
    {
     "name": "stdout",
     "output_type": "stream",
     "text": [
      "Training accuracy (all samples) = 0.161\n",
      "Test accuracy = 0.172\n",
      "\n",
      "Epoch 7, Learning Rate: 0.01\n"
     ]
    },
    {
     "name": "stderr",
     "output_type": "stream",
     "text": [
      "epoch 7: 100%|██████████| 15/15 [00:30<00:00,  2.03s/batch, acc=0.388, loss=2.04]\n"
     ]
    },
    {
     "name": "stdout",
     "output_type": "stream",
     "text": [
      "Training accuracy (all samples) = 0.134\n",
      "Test accuracy = 0.130\n",
      "\n",
      "Epoch 8, Learning Rate: 0.01\n"
     ]
    },
    {
     "name": "stderr",
     "output_type": "stream",
     "text": [
      "epoch 8: 100%|██████████| 15/15 [00:29<00:00,  1.95s/batch, acc=0.269, loss=2.61]\n"
     ]
    },
    {
     "name": "stdout",
     "output_type": "stream",
     "text": [
      "Training accuracy (all samples) = 0.223\n",
      "Test accuracy = 0.199\n",
      "\n",
      "Epoch 9, Learning Rate: 0.01\n"
     ]
    },
    {
     "name": "stderr",
     "output_type": "stream",
     "text": [
      "epoch 9: 100%|██████████| 15/15 [00:28<00:00,  1.92s/batch, acc=0.224, loss=2.79]\n"
     ]
    },
    {
     "name": "stdout",
     "output_type": "stream",
     "text": [
      "Training accuracy (all samples) = 0.302\n",
      "Test accuracy = 0.291\n",
      "\n",
      "Epoch 10, Learning Rate: 0.005\n"
     ]
    },
    {
     "name": "stderr",
     "output_type": "stream",
     "text": [
      "epoch 10: 100%|██████████| 15/15 [00:29<00:00,  1.99s/batch, acc=0.239, loss=11.6]\n"
     ]
    },
    {
     "name": "stdout",
     "output_type": "stream",
     "text": [
      "Training accuracy (all samples) = 0.178\n",
      "Test accuracy = 0.194\n",
      "\n",
      "Epoch 11, Learning Rate: 0.005\n"
     ]
    },
    {
     "name": "stderr",
     "output_type": "stream",
     "text": [
      "epoch 11: 100%|██████████| 15/15 [00:29<00:00,  1.94s/batch, acc=0.254, loss=12.4]\n"
     ]
    },
    {
     "name": "stdout",
     "output_type": "stream",
     "text": [
      "Training accuracy (all samples) = 0.252\n",
      "Test accuracy = 0.246\n",
      "\n",
      "Epoch 12, Learning Rate: 0.005\n"
     ]
    },
    {
     "name": "stderr",
     "output_type": "stream",
     "text": [
      "epoch 12: 100%|██████████| 15/15 [00:29<00:00,  1.99s/batch, acc=0.269, loss=1.64]\n"
     ]
    },
    {
     "name": "stdout",
     "output_type": "stream",
     "text": [
      "Training accuracy (all samples) = 0.218\n",
      "Test accuracy = 0.189\n",
      "\n",
      "Epoch 13, Learning Rate: 0.005\n"
     ]
    },
    {
     "name": "stderr",
     "output_type": "stream",
     "text": [
      "epoch 13: 100%|██████████| 15/15 [00:28<00:00,  1.92s/batch, acc=0.284, loss=1.91]\n"
     ]
    },
    {
     "name": "stdout",
     "output_type": "stream",
     "text": [
      "Training accuracy (all samples) = 0.275\n",
      "Test accuracy = 0.280\n",
      "\n",
      "Epoch 14, Learning Rate: 0.005\n"
     ]
    },
    {
     "name": "stderr",
     "output_type": "stream",
     "text": [
      "epoch 14: 100%|██████████| 15/15 [00:28<00:00,  1.92s/batch, acc=0.269, loss=1.96]\n"
     ]
    },
    {
     "name": "stdout",
     "output_type": "stream",
     "text": [
      "Training accuracy (all samples) = 0.233\n",
      "Test accuracy = 0.229\n",
      "\n",
      "Epoch 15, Learning Rate: 0.005\n"
     ]
    },
    {
     "name": "stderr",
     "output_type": "stream",
     "text": [
      "epoch 15: 100%|██████████| 15/15 [00:29<00:00,  1.99s/batch, acc=0.209, loss=2.54]\n"
     ]
    },
    {
     "name": "stdout",
     "output_type": "stream",
     "text": [
      "Training accuracy (all samples) = 0.282\n",
      "Test accuracy = 0.291\n",
      "\n",
      "Epoch 16, Learning Rate: 0.005\n"
     ]
    },
    {
     "name": "stderr",
     "output_type": "stream",
     "text": [
      "epoch 16: 100%|██████████| 15/15 [00:28<00:00,  1.92s/batch, acc=0.179, loss=2.09]\n"
     ]
    },
    {
     "name": "stdout",
     "output_type": "stream",
     "text": [
      "Training accuracy (all samples) = 0.258\n",
      "Test accuracy = 0.275\n",
      "\n",
      "Epoch 17, Learning Rate: 0.005\n"
     ]
    },
    {
     "name": "stderr",
     "output_type": "stream",
     "text": [
      "epoch 17: 100%|██████████| 15/15 [00:29<00:00,  1.98s/batch, acc=0.284, loss=2.2]\n"
     ]
    },
    {
     "name": "stdout",
     "output_type": "stream",
     "text": [
      "Training accuracy (all samples) = 0.249\n",
      "Test accuracy = 0.223\n",
      "\n",
      "Epoch 18, Learning Rate: 0.005\n"
     ]
    },
    {
     "name": "stderr",
     "output_type": "stream",
     "text": [
      "epoch 18: 100%|██████████| 15/15 [00:29<00:00,  1.96s/batch, acc=0.358, loss=5.89]\n"
     ]
    },
    {
     "name": "stdout",
     "output_type": "stream",
     "text": [
      "Training accuracy (all samples) = 0.354\n",
      "Test accuracy = 0.328\n",
      "\n",
      "Epoch 19, Learning Rate: 0.005\n"
     ]
    },
    {
     "name": "stderr",
     "output_type": "stream",
     "text": [
      "epoch 19: 100%|██████████| 15/15 [00:31<00:00,  2.07s/batch, acc=0.373, loss=7.88]\n"
     ]
    },
    {
     "name": "stdout",
     "output_type": "stream",
     "text": [
      "Training accuracy (all samples) = 0.372\n",
      "Test accuracy = 0.378\n",
      "\n",
      "Epoch 20, Learning Rate: 0.0025\n"
     ]
    },
    {
     "name": "stderr",
     "output_type": "stream",
     "text": [
      "epoch 20: 100%|██████████| 15/15 [00:30<00:00,  2.00s/batch, acc=0.194, loss=1.85]\n"
     ]
    },
    {
     "name": "stdout",
     "output_type": "stream",
     "text": [
      "Training accuracy (all samples) = 0.254\n",
      "Test accuracy = 0.231\n",
      "\n",
      "Epoch 21, Learning Rate: 0.0025\n"
     ]
    },
    {
     "name": "stderr",
     "output_type": "stream",
     "text": [
      "epoch 21: 100%|██████████| 15/15 [00:31<00:00,  2.09s/batch, acc=0.313, loss=19.7]\n"
     ]
    },
    {
     "name": "stdout",
     "output_type": "stream",
     "text": [
      "Training accuracy (all samples) = 0.414\n",
      "Test accuracy = 0.424\n",
      "\n",
      "Epoch 22, Learning Rate: 0.0025\n"
     ]
    },
    {
     "name": "stderr",
     "output_type": "stream",
     "text": [
      "epoch 22: 100%|██████████| 15/15 [00:31<00:00,  2.08s/batch, acc=0.269, loss=9.83]\n"
     ]
    },
    {
     "name": "stdout",
     "output_type": "stream",
     "text": [
      "Training accuracy (all samples) = 0.204\n",
      "Test accuracy = 0.202\n",
      "\n",
      "Epoch 23, Learning Rate: 0.0025\n"
     ]
    },
    {
     "name": "stderr",
     "output_type": "stream",
     "text": [
      "epoch 23: 100%|██████████| 15/15 [00:30<00:00,  2.02s/batch, acc=0.179, loss=2.61]\n"
     ]
    },
    {
     "name": "stdout",
     "output_type": "stream",
     "text": [
      "Training accuracy (all samples) = 0.256\n",
      "Test accuracy = 0.275\n",
      "\n",
      "Epoch 24, Learning Rate: 0.0025\n"
     ]
    },
    {
     "name": "stderr",
     "output_type": "stream",
     "text": [
      "epoch 24: 100%|██████████| 15/15 [00:29<00:00,  1.98s/batch, acc=0.358, loss=2.75]\n"
     ]
    },
    {
     "name": "stdout",
     "output_type": "stream",
     "text": [
      "Training accuracy (all samples) = 0.304\n",
      "Test accuracy = 0.283\n",
      "\n",
      "Epoch 25, Learning Rate: 0.0025\n"
     ]
    },
    {
     "name": "stderr",
     "output_type": "stream",
     "text": [
      "epoch 25: 100%|██████████| 15/15 [00:30<00:00,  2.01s/batch, acc=0.239, loss=1.69]\n"
     ]
    },
    {
     "name": "stdout",
     "output_type": "stream",
     "text": [
      "Training accuracy (all samples) = 0.279\n",
      "Test accuracy = 0.266\n",
      "\n",
      "Epoch 26, Learning Rate: 0.0025\n"
     ]
    },
    {
     "name": "stderr",
     "output_type": "stream",
     "text": [
      "epoch 26: 100%|██████████| 15/15 [00:29<00:00,  1.99s/batch, acc=0.313, loss=11.9]\n"
     ]
    },
    {
     "name": "stdout",
     "output_type": "stream",
     "text": [
      "Training accuracy (all samples) = 0.316\n",
      "Test accuracy = 0.342\n",
      "\n",
      "Epoch 27, Learning Rate: 0.0025\n"
     ]
    },
    {
     "name": "stderr",
     "output_type": "stream",
     "text": [
      "epoch 27: 100%|██████████| 15/15 [00:29<00:00,  1.96s/batch, acc=0.448, loss=8.59]\n"
     ]
    },
    {
     "name": "stdout",
     "output_type": "stream",
     "text": [
      "Training accuracy (all samples) = 0.494\n",
      "Test accuracy = 0.499\n",
      "\n",
      "Epoch 28, Learning Rate: 0.0025\n"
     ]
    },
    {
     "name": "stderr",
     "output_type": "stream",
     "text": [
      "epoch 28: 100%|██████████| 15/15 [00:30<00:00,  2.06s/batch, acc=0.418, loss=14.8]\n"
     ]
    },
    {
     "name": "stdout",
     "output_type": "stream",
     "text": [
      "Training accuracy (all samples) = 0.374\n",
      "Test accuracy = 0.378\n",
      "\n",
      "Epoch 29, Learning Rate: 0.0025\n"
     ]
    },
    {
     "name": "stderr",
     "output_type": "stream",
     "text": [
      "epoch 29: 100%|██████████| 15/15 [00:30<00:00,  2.03s/batch, acc=0.448, loss=15.3]\n"
     ]
    },
    {
     "name": "stdout",
     "output_type": "stream",
     "text": [
      "Training accuracy (all samples) = 0.466\n",
      "Test accuracy = 0.475\n",
      "\n",
      "Epoch 30, Learning Rate: 0.00125\n"
     ]
    },
    {
     "name": "stderr",
     "output_type": "stream",
     "text": [
      "epoch 30: 100%|██████████| 15/15 [00:29<00:00,  2.00s/batch, acc=0.313, loss=1.71]\n"
     ]
    },
    {
     "name": "stdout",
     "output_type": "stream",
     "text": [
      "Training accuracy (all samples) = 0.301\n",
      "Test accuracy = 0.283\n",
      "\n",
      "Epoch 31, Learning Rate: 0.00125\n"
     ]
    },
    {
     "name": "stderr",
     "output_type": "stream",
     "text": [
      "epoch 31: 100%|██████████| 15/15 [00:29<00:00,  1.94s/batch, acc=0.194, loss=12.6]\n"
     ]
    },
    {
     "name": "stdout",
     "output_type": "stream",
     "text": [
      "Training accuracy (all samples) = 0.260\n",
      "Test accuracy = 0.278\n",
      "\n",
      "Epoch 32, Learning Rate: 0.00125\n"
     ]
    },
    {
     "name": "stderr",
     "output_type": "stream",
     "text": [
      "epoch 32: 100%|██████████| 15/15 [00:29<00:00,  1.98s/batch, acc=0.433, loss=13.5]\n"
     ]
    },
    {
     "name": "stdout",
     "output_type": "stream",
     "text": [
      "Training accuracy (all samples) = 0.468\n",
      "Test accuracy = 0.466\n",
      "\n",
      "Epoch 33, Learning Rate: 0.00125\n"
     ]
    },
    {
     "name": "stderr",
     "output_type": "stream",
     "text": [
      "epoch 33: 100%|██████████| 15/15 [00:29<00:00,  1.95s/batch, acc=0.433, loss=10.1]\n"
     ]
    },
    {
     "name": "stdout",
     "output_type": "stream",
     "text": [
      "Training accuracy (all samples) = 0.448\n",
      "Test accuracy = 0.456\n",
      "\n",
      "Epoch 34, Learning Rate: 0.00125\n"
     ]
    },
    {
     "name": "stderr",
     "output_type": "stream",
     "text": [
      "epoch 34: 100%|██████████| 15/15 [00:30<00:00,  2.01s/batch, acc=0.463, loss=12.5]\n"
     ]
    },
    {
     "name": "stdout",
     "output_type": "stream",
     "text": [
      "Training accuracy (all samples) = 0.470\n",
      "Test accuracy = 0.472\n",
      "\n",
      "Epoch 35, Learning Rate: 0.00125\n"
     ]
    },
    {
     "name": "stderr",
     "output_type": "stream",
     "text": [
      "epoch 35: 100%|██████████| 15/15 [00:30<00:00,  2.03s/batch, acc=0.433, loss=7.92]\n"
     ]
    },
    {
     "name": "stdout",
     "output_type": "stream",
     "text": [
      "Training accuracy (all samples) = 0.470\n",
      "Test accuracy = 0.471\n",
      "\n",
      "Epoch 36, Learning Rate: 0.00125\n"
     ]
    },
    {
     "name": "stderr",
     "output_type": "stream",
     "text": [
      "epoch 36: 100%|██████████| 15/15 [00:29<00:00,  1.99s/batch, acc=0.373, loss=14.1]\n"
     ]
    },
    {
     "name": "stdout",
     "output_type": "stream",
     "text": [
      "Training accuracy (all samples) = 0.371\n",
      "Test accuracy = 0.342\n",
      "\n",
      "Epoch 37, Learning Rate: 0.00125\n"
     ]
    },
    {
     "name": "stderr",
     "output_type": "stream",
     "text": [
      "epoch 37: 100%|██████████| 15/15 [00:30<00:00,  2.02s/batch, acc=0.448, loss=8.91]\n"
     ]
    },
    {
     "name": "stdout",
     "output_type": "stream",
     "text": [
      "Training accuracy (all samples) = 0.477\n",
      "Test accuracy = 0.479\n",
      "\n",
      "Epoch 38, Learning Rate: 0.00125\n"
     ]
    },
    {
     "name": "stderr",
     "output_type": "stream",
     "text": [
      "epoch 38: 100%|██████████| 15/15 [00:29<00:00,  1.99s/batch, acc=0.463, loss=4.74]\n"
     ]
    },
    {
     "name": "stdout",
     "output_type": "stream",
     "text": [
      "Training accuracy (all samples) = 0.471\n",
      "Test accuracy = 0.469\n",
      "\n",
      "Epoch 39, Learning Rate: 0.00125\n"
     ]
    },
    {
     "name": "stderr",
     "output_type": "stream",
     "text": [
      "epoch 39: 100%|██████████| 15/15 [00:29<00:00,  1.99s/batch, acc=0.388, loss=7.23]\n"
     ]
    },
    {
     "name": "stdout",
     "output_type": "stream",
     "text": [
      "Training accuracy (all samples) = 0.426\n",
      "Test accuracy = 0.424\n",
      "\n",
      "Epoch 40, Learning Rate: 0.000625\n"
     ]
    },
    {
     "name": "stderr",
     "output_type": "stream",
     "text": [
      "epoch 40: 100%|██████████| 15/15 [00:28<00:00,  1.93s/batch, acc=0.478, loss=2.34]\n"
     ]
    },
    {
     "name": "stdout",
     "output_type": "stream",
     "text": [
      "Training accuracy (all samples) = 0.484\n",
      "Test accuracy = 0.472\n",
      "\n",
      "Epoch 41, Learning Rate: 0.000625\n"
     ]
    },
    {
     "name": "stderr",
     "output_type": "stream",
     "text": [
      "epoch 41: 100%|██████████| 15/15 [00:28<00:00,  1.93s/batch, acc=0.448, loss=6.37]\n"
     ]
    },
    {
     "name": "stdout",
     "output_type": "stream",
     "text": [
      "Training accuracy (all samples) = 0.485\n",
      "Test accuracy = 0.485\n",
      "\n",
      "Epoch 42, Learning Rate: 0.000625\n"
     ]
    },
    {
     "name": "stderr",
     "output_type": "stream",
     "text": [
      "epoch 42: 100%|██████████| 15/15 [00:29<00:00,  1.96s/batch, acc=0.493, loss=2.07]\n"
     ]
    },
    {
     "name": "stdout",
     "output_type": "stream",
     "text": [
      "Training accuracy (all samples) = 0.504\n",
      "Test accuracy = 0.509\n",
      "\n",
      "Epoch 43, Learning Rate: 0.000625\n"
     ]
    },
    {
     "name": "stderr",
     "output_type": "stream",
     "text": [
      "epoch 43: 100%|██████████| 15/15 [00:29<00:00,  1.94s/batch, acc=0.373, loss=1.5]\n"
     ]
    },
    {
     "name": "stdout",
     "output_type": "stream",
     "text": [
      "Training accuracy (all samples) = 0.342\n",
      "Test accuracy = 0.339\n",
      "\n",
      "Epoch 44, Learning Rate: 0.000625\n"
     ]
    },
    {
     "name": "stderr",
     "output_type": "stream",
     "text": [
      "epoch 44: 100%|██████████| 15/15 [00:28<00:00,  1.91s/batch, acc=0.493, loss=3.08]\n"
     ]
    },
    {
     "name": "stdout",
     "output_type": "stream",
     "text": [
      "Training accuracy (all samples) = 0.459\n",
      "Test accuracy = 0.455\n",
      "\n",
      "Epoch 45, Learning Rate: 0.000625\n"
     ]
    },
    {
     "name": "stderr",
     "output_type": "stream",
     "text": [
      "epoch 45: 100%|██████████| 15/15 [00:29<00:00,  1.95s/batch, acc=0.403, loss=2.67]\n"
     ]
    },
    {
     "name": "stdout",
     "output_type": "stream",
     "text": [
      "Training accuracy (all samples) = 0.391\n",
      "Test accuracy = 0.396\n",
      "\n",
      "Epoch 46, Learning Rate: 0.000625\n"
     ]
    },
    {
     "name": "stderr",
     "output_type": "stream",
     "text": [
      "epoch 46: 100%|██████████| 15/15 [00:28<00:00,  1.90s/batch, acc=0.507, loss=2.82]\n"
     ]
    },
    {
     "name": "stdout",
     "output_type": "stream",
     "text": [
      "Training accuracy (all samples) = 0.493\n",
      "Test accuracy = 0.474\n",
      "\n",
      "Epoch 47, Learning Rate: 0.000625\n"
     ]
    },
    {
     "name": "stderr",
     "output_type": "stream",
     "text": [
      "epoch 47: 100%|██████████| 15/15 [00:29<00:00,  1.94s/batch, acc=0.478, loss=5.44]\n"
     ]
    },
    {
     "name": "stdout",
     "output_type": "stream",
     "text": [
      "Training accuracy (all samples) = 0.507\n",
      "Test accuracy = 0.482\n",
      "\n",
      "Epoch 48, Learning Rate: 0.000625\n"
     ]
    },
    {
     "name": "stderr",
     "output_type": "stream",
     "text": [
      "epoch 48: 100%|██████████| 15/15 [00:29<00:00,  1.94s/batch, acc=0.478, loss=6.24]\n"
     ]
    },
    {
     "name": "stdout",
     "output_type": "stream",
     "text": [
      "Training accuracy (all samples) = 0.501\n",
      "Test accuracy = 0.480\n",
      "\n",
      "Epoch 49, Learning Rate: 0.000625\n"
     ]
    },
    {
     "name": "stderr",
     "output_type": "stream",
     "text": [
      "epoch 49: 100%|██████████| 15/15 [00:30<00:00,  2.02s/batch, acc=0.403, loss=1.92]\n"
     ]
    },
    {
     "name": "stdout",
     "output_type": "stream",
     "text": [
      "Training accuracy (all samples) = 0.359\n",
      "Test accuracy = 0.331\n",
      "\n",
      "Epoch 50, Learning Rate: 0.0003125\n"
     ]
    },
    {
     "name": "stderr",
     "output_type": "stream",
     "text": [
      "epoch 50: 100%|██████████| 15/15 [00:29<00:00,  1.97s/batch, acc=0.433, loss=8.69]\n"
     ]
    },
    {
     "name": "stdout",
     "output_type": "stream",
     "text": [
      "Training accuracy (all samples) = 0.498\n",
      "Test accuracy = 0.488\n",
      "\n",
      "Epoch 51, Learning Rate: 0.0003125\n"
     ]
    },
    {
     "name": "stderr",
     "output_type": "stream",
     "text": [
      "epoch 51: 100%|██████████| 15/15 [00:30<00:00,  2.04s/batch, acc=0.493, loss=6.08]\n"
     ]
    },
    {
     "name": "stdout",
     "output_type": "stream",
     "text": [
      "Training accuracy (all samples) = 0.493\n",
      "Test accuracy = 0.480\n",
      "\n",
      "Epoch 52, Learning Rate: 0.0003125\n"
     ]
    },
    {
     "name": "stderr",
     "output_type": "stream",
     "text": [
      "epoch 52: 100%|██████████| 15/15 [00:29<00:00,  1.99s/batch, acc=0.418, loss=3.42]\n"
     ]
    },
    {
     "name": "stdout",
     "output_type": "stream",
     "text": [
      "Training accuracy (all samples) = 0.458\n",
      "Test accuracy = 0.442\n",
      "\n",
      "Epoch 53, Learning Rate: 0.0003125\n"
     ]
    },
    {
     "name": "stderr",
     "output_type": "stream",
     "text": [
      "epoch 53: 100%|██████████| 15/15 [00:29<00:00,  1.94s/batch, acc=0.448, loss=7.2]\n"
     ]
    },
    {
     "name": "stdout",
     "output_type": "stream",
     "text": [
      "Training accuracy (all samples) = 0.485\n",
      "Test accuracy = 0.477\n",
      "\n",
      "Epoch 54, Learning Rate: 0.0003125\n"
     ]
    },
    {
     "name": "stderr",
     "output_type": "stream",
     "text": [
      "epoch 54: 100%|██████████| 15/15 [00:30<00:00,  2.01s/batch, acc=0.493, loss=7.76]\n"
     ]
    },
    {
     "name": "stdout",
     "output_type": "stream",
     "text": [
      "Training accuracy (all samples) = 0.501\n",
      "Test accuracy = 0.490\n",
      "\n",
      "Epoch 55, Learning Rate: 0.0003125\n"
     ]
    },
    {
     "name": "stderr",
     "output_type": "stream",
     "text": [
      "epoch 55: 100%|██████████| 15/15 [00:29<00:00,  1.93s/batch, acc=0.507, loss=2.64]\n"
     ]
    },
    {
     "name": "stdout",
     "output_type": "stream",
     "text": [
      "Training accuracy (all samples) = 0.485\n",
      "Test accuracy = 0.477\n",
      "\n",
      "Epoch 56, Learning Rate: 0.0003125\n"
     ]
    },
    {
     "name": "stderr",
     "output_type": "stream",
     "text": [
      "epoch 56: 100%|██████████| 15/15 [00:29<00:00,  1.96s/batch, acc=0.448, loss=6.66]\n"
     ]
    },
    {
     "name": "stdout",
     "output_type": "stream",
     "text": [
      "Training accuracy (all samples) = 0.502\n",
      "Test accuracy = 0.504\n",
      "\n",
      "Epoch 57, Learning Rate: 0.0003125\n"
     ]
    },
    {
     "name": "stderr",
     "output_type": "stream",
     "text": [
      "epoch 57: 100%|██████████| 15/15 [00:29<00:00,  1.96s/batch, acc=0.463, loss=7.11]\n"
     ]
    },
    {
     "name": "stdout",
     "output_type": "stream",
     "text": [
      "Training accuracy (all samples) = 0.503\n",
      "Test accuracy = 0.488\n",
      "\n",
      "Epoch 58, Learning Rate: 0.0003125\n"
     ]
    },
    {
     "name": "stderr",
     "output_type": "stream",
     "text": [
      "epoch 58: 100%|██████████| 15/15 [00:30<00:00,  2.00s/batch, acc=0.463, loss=7.59]\n"
     ]
    },
    {
     "name": "stdout",
     "output_type": "stream",
     "text": [
      "Training accuracy (all samples) = 0.491\n",
      "Test accuracy = 0.491\n",
      "\n",
      "Epoch 59, Learning Rate: 0.0003125\n"
     ]
    },
    {
     "name": "stderr",
     "output_type": "stream",
     "text": [
      "epoch 59: 100%|██████████| 15/15 [00:28<00:00,  1.90s/batch, acc=0.463, loss=8.02]\n"
     ]
    },
    {
     "name": "stdout",
     "output_type": "stream",
     "text": [
      "Training accuracy (all samples) = 0.491\n",
      "Test accuracy = 0.479\n",
      "\n",
      "Epoch 60, Learning Rate: 0.00015625\n"
     ]
    },
    {
     "name": "stderr",
     "output_type": "stream",
     "text": [
      "epoch 60: 100%|██████████| 15/15 [00:30<00:00,  2.00s/batch, acc=0.463, loss=3.75]\n"
     ]
    },
    {
     "name": "stdout",
     "output_type": "stream",
     "text": [
      "Training accuracy (all samples) = 0.497\n",
      "Test accuracy = 0.493\n",
      "\n",
      "Epoch 61, Learning Rate: 0.00015625\n"
     ]
    },
    {
     "name": "stderr",
     "output_type": "stream",
     "text": [
      "epoch 61: 100%|██████████| 15/15 [00:28<00:00,  1.93s/batch, acc=0.448, loss=4.25]\n"
     ]
    },
    {
     "name": "stdout",
     "output_type": "stream",
     "text": [
      "Training accuracy (all samples) = 0.475\n",
      "Test accuracy = 0.485\n",
      "\n",
      "Epoch 62, Learning Rate: 0.00015625\n"
     ]
    },
    {
     "name": "stderr",
     "output_type": "stream",
     "text": [
      "epoch 62: 100%|██████████| 15/15 [00:29<00:00,  1.94s/batch, acc=0.478, loss=3.78]\n"
     ]
    },
    {
     "name": "stdout",
     "output_type": "stream",
     "text": [
      "Training accuracy (all samples) = 0.487\n",
      "Test accuracy = 0.498\n",
      "\n",
      "Epoch 63, Learning Rate: 0.00015625\n"
     ]
    },
    {
     "name": "stderr",
     "output_type": "stream",
     "text": [
      "epoch 63: 100%|██████████| 15/15 [00:29<00:00,  1.95s/batch, acc=0.478, loss=5.71]\n"
     ]
    },
    {
     "name": "stdout",
     "output_type": "stream",
     "text": [
      "Training accuracy (all samples) = 0.500\n",
      "Test accuracy = 0.472\n",
      "\n",
      "Epoch 64, Learning Rate: 0.00015625\n"
     ]
    },
    {
     "name": "stderr",
     "output_type": "stream",
     "text": [
      "epoch 64: 100%|██████████| 15/15 [00:29<00:00,  1.99s/batch, acc=0.433, loss=7.44]\n"
     ]
    },
    {
     "name": "stdout",
     "output_type": "stream",
     "text": [
      "Training accuracy (all samples) = 0.495\n",
      "Test accuracy = 0.493\n",
      "\n",
      "Epoch 65, Learning Rate: 0.00015625\n"
     ]
    },
    {
     "name": "stderr",
     "output_type": "stream",
     "text": [
      "epoch 65: 100%|██████████| 15/15 [00:28<00:00,  1.92s/batch, acc=0.522, loss=6.75]\n"
     ]
    },
    {
     "name": "stdout",
     "output_type": "stream",
     "text": [
      "Training accuracy (all samples) = 0.495\n",
      "Test accuracy = 0.499\n",
      "\n",
      "Epoch 66, Learning Rate: 0.00015625\n"
     ]
    },
    {
     "name": "stderr",
     "output_type": "stream",
     "text": [
      "epoch 66: 100%|██████████| 15/15 [00:29<00:00,  1.96s/batch, acc=0.463, loss=5.92]\n"
     ]
    },
    {
     "name": "stdout",
     "output_type": "stream",
     "text": [
      "Training accuracy (all samples) = 0.503\n",
      "Test accuracy = 0.475\n",
      "\n",
      "Epoch 67, Learning Rate: 0.00015625\n"
     ]
    },
    {
     "name": "stderr",
     "output_type": "stream",
     "text": [
      "epoch 67: 100%|██████████| 15/15 [00:28<00:00,  1.92s/batch, acc=0.433, loss=8.09]\n"
     ]
    },
    {
     "name": "stdout",
     "output_type": "stream",
     "text": [
      "Training accuracy (all samples) = 0.504\n",
      "Test accuracy = 0.482\n",
      "\n",
      "Epoch 68, Learning Rate: 0.00015625\n"
     ]
    },
    {
     "name": "stderr",
     "output_type": "stream",
     "text": [
      "epoch 68: 100%|██████████| 15/15 [00:29<00:00,  1.94s/batch, acc=0.493, loss=11.2]\n"
     ]
    },
    {
     "name": "stdout",
     "output_type": "stream",
     "text": [
      "Training accuracy (all samples) = 0.498\n",
      "Test accuracy = 0.485\n",
      "\n",
      "Epoch 69, Learning Rate: 0.00015625\n"
     ]
    },
    {
     "name": "stderr",
     "output_type": "stream",
     "text": [
      "epoch 69: 100%|██████████| 15/15 [00:27<00:00,  1.86s/batch, acc=0.463, loss=7.41]\n"
     ]
    },
    {
     "name": "stdout",
     "output_type": "stream",
     "text": [
      "Training accuracy (all samples) = 0.489\n",
      "Test accuracy = 0.493\n",
      "\n",
      "Epoch 70, Learning Rate: 7.8125e-05\n"
     ]
    },
    {
     "name": "stderr",
     "output_type": "stream",
     "text": [
      "epoch 70: 100%|██████████| 15/15 [00:29<00:00,  1.95s/batch, acc=0.463, loss=4.68]\n"
     ]
    },
    {
     "name": "stdout",
     "output_type": "stream",
     "text": [
      "Training accuracy (all samples) = 0.498\n",
      "Test accuracy = 0.493\n",
      "\n",
      "Epoch 71, Learning Rate: 7.8125e-05\n"
     ]
    },
    {
     "name": "stderr",
     "output_type": "stream",
     "text": [
      "epoch 71: 100%|██████████| 15/15 [00:30<00:00,  2.04s/batch, acc=0.463, loss=6.93]\n"
     ]
    },
    {
     "name": "stdout",
     "output_type": "stream",
     "text": [
      "Training accuracy (all samples) = 0.496\n",
      "Test accuracy = 0.488\n",
      "\n",
      "Epoch 72, Learning Rate: 7.8125e-05\n"
     ]
    },
    {
     "name": "stderr",
     "output_type": "stream",
     "text": [
      "epoch 72: 100%|██████████| 15/15 [00:30<00:00,  2.02s/batch, acc=0.448, loss=7.66]\n"
     ]
    },
    {
     "name": "stdout",
     "output_type": "stream",
     "text": [
      "Training accuracy (all samples) = 0.504\n",
      "Test accuracy = 0.498\n",
      "\n",
      "Early stopping at epoch 72 due to training accuracy plateau.\n",
      "Saved neural network fitting results and model to ./data/hybrid_quantum_nn_1744927206\n"
     ]
    }
   ],
   "source": [
    "result = build_and_run_nn('categories', \n",
    "                          cnn_fc_layer_args=cnn_fc_layers,\n",
    "                          quantum_layer_args=quantum_layer,\n",
    "                          training_params=training_params)"
   ]
  },
  {
   "cell_type": "code",
   "execution_count": 4,
   "metadata": {},
   "outputs": [
    {
     "name": "stdout",
     "output_type": "stream",
     "text": [
      "HybridNN(\n",
      "  (conv1): Conv2d(3, 32, kernel_size=(3, 3), stride=(1, 1), padding=(1, 1))\n",
      "  (bn1): BatchNorm2d(32, eps=1e-05, momentum=0.1, affine=True, track_running_stats=True)\n",
      "  (pool): MaxPool2d(kernel_size=2, stride=2, padding=0, dilation=1, ceil_mode=False)\n",
      "  (conv2): Conv2d(32, 64, kernel_size=(3, 3), stride=(1, 1), padding=(1, 1))\n",
      "  (bn2): BatchNorm2d(64, eps=1e-05, momentum=0.1, affine=True, track_running_stats=True)\n",
      "  (fc1): Linear(in_features=161280, out_features=256, bias=True)\n",
      "  (fc2): Linear(in_features=256, out_features=10, bias=True)\n",
      "  (quantum): QuantumLayer()\n",
      "  (fc_out): Linear(in_features=5, out_features=5, bias=True)\n",
      "  (dropout): Dropout(p=0.1, inplace=False)\n",
      ")\n"
     ]
    },
    {
     "data": {
      "image/png": "[encoded data removed]",
      "text/plain": [
       "<Figure size 1000x500 with 2 Axes>"
      ]
     },
     "metadata": {},
     "output_type": "display_data"
    }
   ],
   "source": [
    "file_name = result[-1]\n",
    "print(result[-2])\n",
    "\n",
    "df = pd.read_csv(file_name + '.csv')\n",
    "\n",
    "plt.figure(figsize=(10, 5))\n",
    "plt.subplot(1, 2, 1)\n",
    "plt.plot(df['training_cost'], label='Train')\n",
    "plt.plot(df['testing_cost'], label='Test')\n",
    "plt.xlabel('Epochs')\n",
    "plt.ylabel('Cost')\n",
    "plt.legend()\n",
    "plt.xlim(0,)\n",
    "plt.ylim(0,)\n",
    "\n",
    "plt.subplot(1, 2, 2)\n",
    "plt.plot(df['training_accuracy'], label='Train')\n",
    "plt.plot(df['testing_accuracy'], label='Test')\n",
    "plt.xlabel('Epochs')\n",
    "plt.ylabel('Accuracy')\n",
    "plt.legend()\n",
    "plt.xlim(0,)\n",
    "plt.ylim(0,1.01)\n",
    "\n",
    "plt.tight_layout()\n",
    "plt.show()"
   ]
  },
  {
   "cell_type": "markdown",
   "metadata": {},
   "source": [
    "#### HQNN example 2 - not expressive enough to train\n",
    "- Only change from above example - Hamiltonians goes from to Pauli-Z to Pauli-Z * Pauli-X\n",
    "    - In effect, this cahnge makes the output from quantum(x) in HybridNN almost always 0, inhibiting any form of training & back propagation\n",
    "    - Classifications are effectively randomized and stay near the starting predictions"
   ]
  },
  {
   "cell_type": "code",
   "execution_count": null,
   "metadata": {},
   "outputs": [
    {
     "name": "stdout",
     "output_type": "stream",
     "text": [
      "     ╭─────────╮╭───────╮                     \n",
      "q0 : ┤ ry(0.1) ├┤ rx(6) ├───●────●────●────●──\n",
      "     ├─────────┤├───────┤ ╭─┴─╮  │    │    │  \n",
      "q1 : ┤ ry(0.2) ├┤ rx(7) ├─┤ x ├──┼────┼────┼──\n",
      "     ├─────────┤├───────┤ ╰───╯╭─┴─╮  │    │  \n",
      "q2 : ┤ ry(0.3) ├┤ rx(8) ├──────┤ x ├──┼────┼──\n",
      "     ├─────────┤├───────┤      ╰───╯╭─┴─╮  │  \n",
      "q3 : ┤ ry(0.4) ├┤ rx(9) ├───────────┤ x ├──┼──\n",
      "     ├─────────┤├───────┴╮          ╰───╯╭─┴─╮\n",
      "q4 : ┤ ry(0.5) ├┤ rx(10) ├───────────────┤ x ├\n",
      "     ╰─────────╯╰────────╯               ╰───╯\n",
      "\n"
     ]
    }
   ],
   "source": [
    "# Unexpressive quantum example\n",
    "    # Identical parameters to example 1 except 'hamiltonians' below\n",
    "\n",
    "quantum_layer = {\n",
    "    'qubit_count': 5,\n",
    "    'hamiltonians': [spin.z(0) * spin.x(0), \n",
    "                     spin.z(1) * spin.x(1), \n",
    "                     spin.z(2) * spin.x(2), \n",
    "                     spin.z(3) * spin.x(3), \n",
    "                     spin.z(4) * spin.x(4)],\n",
    "    'shift': torch.tensor(torch.pi / 4),\n",
    "    'quantum_param_init_scale': 100.0,\n",
    "    'features_per_qubit': 2,\n",
    "    'n_classes': 5}\n",
    "\n",
    "# Identical quantum kernel to above example\n",
    "qf = QuantumFunction(5, quantum_layer.get('hamiltonians'), quantum_layer.get('features_per_qubit'))\n",
    "ry_ex = np.array([0.1,0.2,0.3,0.4,0.5])\n",
    "rx_ex = np.array([6,7,8,9,10])\n",
    "\n",
    "print(cudaq.draw(qf.kernel, ry_ex, rx_ex))\n",
    "\n"
   ]
  },
  {
   "cell_type": "code",
   "execution_count": 3,
   "metadata": {},
   "outputs": [
    {
     "name": "stdout",
     "output_type": "stream",
     "text": [
      "Number of classes 5\n",
      "Y values (tensor(0), tensor(4))\n",
      "\n",
      "Epoch 0, Learning Rate: 0.01\n"
     ]
    },
    {
     "name": "stderr",
     "output_type": "stream",
     "text": [
      "epoch 0: 100%|██████████| 15/15 [00:31<00:00,  2.07s/batch, acc=0.313, loss=1.58]\n"
     ]
    },
    {
     "name": "stdout",
     "output_type": "stream",
     "text": [
      "Training accuracy (all samples) = 0.304\n",
      "Test accuracy = 0.283\n",
      "\n",
      "Epoch 1, Learning Rate: 0.01\n"
     ]
    },
    {
     "name": "stderr",
     "output_type": "stream",
     "text": [
      "epoch 1: 100%|██████████| 15/15 [00:31<00:00,  2.07s/batch, acc=0.313, loss=1.56]\n"
     ]
    },
    {
     "name": "stdout",
     "output_type": "stream",
     "text": [
      "Training accuracy (all samples) = 0.304\n",
      "Test accuracy = 0.283\n",
      "\n",
      "Epoch 2, Learning Rate: 0.01\n"
     ]
    },
    {
     "name": "stderr",
     "output_type": "stream",
     "text": [
      "epoch 2: 100%|██████████| 15/15 [00:31<00:00,  2.08s/batch, acc=0.313, loss=1.56]\n"
     ]
    },
    {
     "name": "stdout",
     "output_type": "stream",
     "text": [
      "Training accuracy (all samples) = 0.304\n",
      "Test accuracy = 0.283\n",
      "\n",
      "Epoch 3, Learning Rate: 0.01\n"
     ]
    },
    {
     "name": "stderr",
     "output_type": "stream",
     "text": [
      "epoch 3: 100%|██████████| 15/15 [00:31<00:00,  2.09s/batch, acc=0.313, loss=1.56]\n"
     ]
    },
    {
     "name": "stdout",
     "output_type": "stream",
     "text": [
      "Training accuracy (all samples) = 0.304\n",
      "Test accuracy = 0.283\n",
      "\n",
      "Epoch 4, Learning Rate: 0.01\n"
     ]
    },
    {
     "name": "stderr",
     "output_type": "stream",
     "text": [
      "epoch 4: 100%|██████████| 15/15 [00:32<00:00,  2.17s/batch, acc=0.313, loss=1.56]\n"
     ]
    },
    {
     "name": "stdout",
     "output_type": "stream",
     "text": [
      "Training accuracy (all samples) = 0.304\n",
      "Test accuracy = 0.283\n",
      "\n",
      "Epoch 5, Learning Rate: 0.01\n"
     ]
    },
    {
     "name": "stderr",
     "output_type": "stream",
     "text": [
      "epoch 5: 100%|██████████| 15/15 [00:31<00:00,  2.13s/batch, acc=0.313, loss=1.56]\n"
     ]
    },
    {
     "name": "stdout",
     "output_type": "stream",
     "text": [
      "Training accuracy (all samples) = 0.304\n",
      "Test accuracy = 0.283\n",
      "\n",
      "Epoch 6, Learning Rate: 0.01\n"
     ]
    },
    {
     "name": "stderr",
     "output_type": "stream",
     "text": [
      "epoch 6: 100%|██████████| 15/15 [00:32<00:00,  2.14s/batch, acc=0.313, loss=1.56]\n"
     ]
    },
    {
     "name": "stdout",
     "output_type": "stream",
     "text": [
      "Training accuracy (all samples) = 0.304\n",
      "Test accuracy = 0.283\n",
      "\n",
      "Epoch 7, Learning Rate: 0.01\n"
     ]
    },
    {
     "name": "stderr",
     "output_type": "stream",
     "text": [
      "epoch 7: 100%|██████████| 15/15 [00:30<00:00,  2.06s/batch, acc=0.313, loss=1.56]\n"
     ]
    },
    {
     "name": "stdout",
     "output_type": "stream",
     "text": [
      "Training accuracy (all samples) = 0.304\n",
      "Test accuracy = 0.283\n",
      "\n",
      "Epoch 8, Learning Rate: 0.01\n"
     ]
    },
    {
     "name": "stderr",
     "output_type": "stream",
     "text": [
      "epoch 8: 100%|██████████| 15/15 [00:31<00:00,  2.08s/batch, acc=0.313, loss=1.56]\n"
     ]
    },
    {
     "name": "stdout",
     "output_type": "stream",
     "text": [
      "Training accuracy (all samples) = 0.304\n",
      "Test accuracy = 0.283\n",
      "\n",
      "Epoch 9, Learning Rate: 0.01\n"
     ]
    },
    {
     "name": "stderr",
     "output_type": "stream",
     "text": [
      "epoch 9: 100%|██████████| 15/15 [00:31<00:00,  2.11s/batch, acc=0.313, loss=1.56]\n"
     ]
    },
    {
     "name": "stdout",
     "output_type": "stream",
     "text": [
      "Training accuracy (all samples) = 0.304\n",
      "Test accuracy = 0.283\n",
      "\n",
      "Epoch 10, Learning Rate: 0.005\n"
     ]
    },
    {
     "name": "stderr",
     "output_type": "stream",
     "text": [
      "epoch 10: 100%|██████████| 15/15 [00:32<00:00,  2.19s/batch, acc=0.313, loss=1.57]\n"
     ]
    },
    {
     "name": "stdout",
     "output_type": "stream",
     "text": [
      "Training accuracy (all samples) = 0.304\n",
      "Test accuracy = 0.283\n",
      "\n",
      "Epoch 11, Learning Rate: 0.005\n"
     ]
    },
    {
     "name": "stderr",
     "output_type": "stream",
     "text": [
      "epoch 11: 100%|██████████| 15/15 [00:32<00:00,  2.14s/batch, acc=0.313, loss=1.57]\n"
     ]
    },
    {
     "name": "stdout",
     "output_type": "stream",
     "text": [
      "Training accuracy (all samples) = 0.304\n",
      "Test accuracy = 0.283\n",
      "\n",
      "Epoch 12, Learning Rate: 0.005\n"
     ]
    },
    {
     "name": "stderr",
     "output_type": "stream",
     "text": [
      "epoch 12: 100%|██████████| 15/15 [00:32<00:00,  2.17s/batch, acc=0.313, loss=1.57]\n"
     ]
    },
    {
     "name": "stdout",
     "output_type": "stream",
     "text": [
      "Training accuracy (all samples) = 0.304\n",
      "Test accuracy = 0.283\n",
      "\n",
      "Epoch 13, Learning Rate: 0.005\n"
     ]
    },
    {
     "name": "stderr",
     "output_type": "stream",
     "text": [
      "epoch 13: 100%|██████████| 15/15 [00:32<00:00,  2.19s/batch, acc=0.313, loss=1.57]\n"
     ]
    },
    {
     "name": "stdout",
     "output_type": "stream",
     "text": [
      "Training accuracy (all samples) = 0.304\n",
      "Test accuracy = 0.283\n",
      "\n",
      "Epoch 14, Learning Rate: 0.005\n"
     ]
    },
    {
     "name": "stderr",
     "output_type": "stream",
     "text": [
      "epoch 14: 100%|██████████| 15/15 [00:33<00:00,  2.22s/batch, acc=0.313, loss=1.57]\n"
     ]
    },
    {
     "name": "stdout",
     "output_type": "stream",
     "text": [
      "Training accuracy (all samples) = 0.304\n",
      "Test accuracy = 0.283\n",
      "\n",
      "Epoch 15, Learning Rate: 0.005\n"
     ]
    },
    {
     "name": "stderr",
     "output_type": "stream",
     "text": [
      "epoch 15: 100%|██████████| 15/15 [00:32<00:00,  2.17s/batch, acc=0.313, loss=1.57]\n"
     ]
    },
    {
     "name": "stdout",
     "output_type": "stream",
     "text": [
      "Training accuracy (all samples) = 0.304\n",
      "Test accuracy = 0.283\n",
      "\n",
      "Epoch 16, Learning Rate: 0.005\n"
     ]
    },
    {
     "name": "stderr",
     "output_type": "stream",
     "text": [
      "epoch 16: 100%|██████████| 15/15 [00:32<00:00,  2.15s/batch, acc=0.313, loss=1.57]\n"
     ]
    },
    {
     "name": "stdout",
     "output_type": "stream",
     "text": [
      "Training accuracy (all samples) = 0.304\n",
      "Test accuracy = 0.283\n",
      "\n",
      "Epoch 17, Learning Rate: 0.005\n"
     ]
    },
    {
     "name": "stderr",
     "output_type": "stream",
     "text": [
      "epoch 17: 100%|██████████| 15/15 [00:32<00:00,  2.19s/batch, acc=0.313, loss=1.57]\n"
     ]
    },
    {
     "name": "stdout",
     "output_type": "stream",
     "text": [
      "Training accuracy (all samples) = 0.304\n",
      "Test accuracy = 0.283\n",
      "\n",
      "Epoch 18, Learning Rate: 0.005\n"
     ]
    },
    {
     "name": "stderr",
     "output_type": "stream",
     "text": [
      "epoch 18: 100%|██████████| 15/15 [00:33<00:00,  2.21s/batch, acc=0.313, loss=1.57]\n"
     ]
    },
    {
     "name": "stdout",
     "output_type": "stream",
     "text": [
      "Training accuracy (all samples) = 0.304\n",
      "Test accuracy = 0.283\n",
      "\n",
      "Epoch 19, Learning Rate: 0.005\n"
     ]
    },
    {
     "name": "stderr",
     "output_type": "stream",
     "text": [
      "epoch 19: 100%|██████████| 15/15 [00:31<00:00,  2.11s/batch, acc=0.313, loss=1.57]\n"
     ]
    },
    {
     "name": "stdout",
     "output_type": "stream",
     "text": [
      "Training accuracy (all samples) = 0.304\n",
      "Test accuracy = 0.283\n",
      "\n",
      "Epoch 20, Learning Rate: 0.0025\n"
     ]
    },
    {
     "name": "stderr",
     "output_type": "stream",
     "text": [
      "epoch 20: 100%|██████████| 15/15 [00:31<00:00,  2.09s/batch, acc=0.313, loss=1.57]\n"
     ]
    },
    {
     "name": "stdout",
     "output_type": "stream",
     "text": [
      "Training accuracy (all samples) = 0.304\n",
      "Test accuracy = 0.283\n",
      "\n",
      "Epoch 21, Learning Rate: 0.0025\n"
     ]
    },
    {
     "name": "stderr",
     "output_type": "stream",
     "text": [
      "epoch 21: 100%|██████████| 15/15 [00:31<00:00,  2.11s/batch, acc=0.313, loss=1.57]\n"
     ]
    },
    {
     "name": "stdout",
     "output_type": "stream",
     "text": [
      "Training accuracy (all samples) = 0.304\n",
      "Test accuracy = 0.283\n",
      "\n",
      "Epoch 22, Learning Rate: 0.0025\n"
     ]
    },
    {
     "name": "stderr",
     "output_type": "stream",
     "text": [
      "epoch 22: 100%|██████████| 15/15 [00:31<00:00,  2.09s/batch, acc=0.313, loss=1.57]\n"
     ]
    },
    {
     "name": "stdout",
     "output_type": "stream",
     "text": [
      "Training accuracy (all samples) = 0.304\n",
      "Test accuracy = 0.283\n",
      "\n",
      "Epoch 23, Learning Rate: 0.0025\n"
     ]
    },
    {
     "name": "stderr",
     "output_type": "stream",
     "text": [
      "epoch 23: 100%|██████████| 15/15 [00:32<00:00,  2.14s/batch, acc=0.313, loss=1.57]\n"
     ]
    },
    {
     "name": "stdout",
     "output_type": "stream",
     "text": [
      "Training accuracy (all samples) = 0.304\n",
      "Test accuracy = 0.283\n",
      "\n",
      "Epoch 24, Learning Rate: 0.0025\n"
     ]
    },
    {
     "name": "stderr",
     "output_type": "stream",
     "text": [
      "epoch 24: 100%|██████████| 15/15 [00:31<00:00,  2.09s/batch, acc=0.313, loss=1.57]\n"
     ]
    },
    {
     "name": "stdout",
     "output_type": "stream",
     "text": [
      "Training accuracy (all samples) = 0.304\n",
      "Test accuracy = 0.283\n",
      "\n",
      "Epoch 25, Learning Rate: 0.0025\n"
     ]
    },
    {
     "name": "stderr",
     "output_type": "stream",
     "text": [
      "epoch 25: 100%|██████████| 15/15 [00:31<00:00,  2.12s/batch, acc=0.313, loss=1.57]\n"
     ]
    },
    {
     "name": "stdout",
     "output_type": "stream",
     "text": [
      "Training accuracy (all samples) = 0.304\n",
      "Test accuracy = 0.283\n",
      "\n",
      "Early stopping at epoch 25 due to training accuracy plateau.\n",
      "Saved neural network fitting results and model to ./data/hybrid_quantum_nn_1744996708\n"
     ]
    }
   ],
   "source": [
    "result = build_and_run_nn('categories', \n",
    "                          cnn_fc_layer_args=cnn_fc_layers,\n",
    "                          quantum_layer_args=quantum_layer,\n",
    "                          training_params=training_params)"
   ]
  },
  {
   "cell_type": "code",
   "execution_count": 4,
   "metadata": {},
   "outputs": [
    {
     "name": "stdout",
     "output_type": "stream",
     "text": [
      "HybridNN(\n",
      "  (conv1): Conv2d(3, 32, kernel_size=(3, 3), stride=(1, 1), padding=(1, 1))\n",
      "  (bn1): BatchNorm2d(32, eps=1e-05, momentum=0.1, affine=True, track_running_stats=True)\n",
      "  (pool): MaxPool2d(kernel_size=2, stride=2, padding=0, dilation=1, ceil_mode=False)\n",
      "  (conv2): Conv2d(32, 64, kernel_size=(3, 3), stride=(1, 1), padding=(1, 1))\n",
      "  (bn2): BatchNorm2d(64, eps=1e-05, momentum=0.1, affine=True, track_running_stats=True)\n",
      "  (fc1): Linear(in_features=161280, out_features=256, bias=True)\n",
      "  (fc2): Linear(in_features=256, out_features=10, bias=True)\n",
      "  (quantum): QuantumLayer()\n",
      "  (fc_out): Linear(in_features=5, out_features=5, bias=True)\n",
      "  (dropout): Dropout(p=0.1, inplace=False)\n",
      ")\n"
     ]
    },
    {
     "data": {
      "image/png": "[encoded data removed]",
      "text/plain": [
       "<Figure size 1000x500 with 2 Axes>"
      ]
     },
     "metadata": {},
     "output_type": "display_data"
    }
   ],
   "source": [
    "file_name = result[-1]\n",
    "print(result[-2])\n",
    "\n",
    "df = pd.read_csv(file_name + '.csv')\n",
    "\n",
    "plt.figure(figsize=(10, 5))\n",
    "plt.subplot(1, 2, 1)\n",
    "plt.plot(df['training_cost'], label='Train')\n",
    "plt.plot(df['testing_cost'], label='Test')\n",
    "plt.xlabel('Epochs')\n",
    "plt.ylabel('Cost')\n",
    "plt.legend()\n",
    "plt.xlim(0,)\n",
    "plt.ylim(0,)\n",
    "\n",
    "plt.subplot(1, 2, 2)\n",
    "plt.plot(df['training_accuracy'], label='Train')\n",
    "plt.plot(df['testing_accuracy'], label='Test')\n",
    "plt.xlabel('Epochs')\n",
    "plt.ylabel('Accuracy')\n",
    "plt.legend()\n",
    "plt.xlim(0,)\n",
    "plt.ylim(0,1.01)\n",
    "\n",
    "plt.tight_layout()\n",
    "plt.show()"
   ]
  },
  {
   "cell_type": "markdown",
   "metadata": {},
   "source": []
  }
 ],
 "metadata": {
  "kernelspec": {
   "display_name": "Python 3",
   "language": "python",
   "name": "python3"
  },
  "language_info": {
   "codemirror_mode": {
    "name": "ipython",
    "version": 3
   },
   "file_extension": ".py",
   "mimetype": "text/x-python",
   "name": "python",
   "nbconvert_exporter": "python",
   "pygments_lexer": "ipython3",
   "version": "3.10.12"
  }
 },
 "nbformat": 4,
 "nbformat_minor": 2
}
