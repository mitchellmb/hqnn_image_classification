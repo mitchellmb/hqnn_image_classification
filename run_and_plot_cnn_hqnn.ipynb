{
 "cells": [
  {
   "cell_type": "markdown",
   "metadata": {},
   "source": [
    "## Wrapper function to load augmented dataset & run a CNN or HQNN setup from HybridNN\n",
    "\n",
    "build_and_run_nn:\n",
    "- Classical: pass None for qubit_count and quantum_layer_ars\n",
    "- Quantum layer: include the above information to incorporate one quantum layer in HybridNN"
   ]
  },
  {
   "cell_type": "markdown",
   "metadata": {},
   "source": [
    "The base classical CNN network was set up to be simple enough to allow the incorporation of a Quantum Layer to significantly impact the model's capability to learn patterns in the dataset. \n",
    "\n",
    "\n",
    "See hybrid_nn.py for the setup. Core features are:\n",
    "- 2 CNN layers with batch normalization followed by pooling. \n",
    "- 2 fully connected linear layers for the classical route\n",
    "- linear layer -> quantum layer -> linear layer for the hybrid-quantum route\n",
    "\n",
    "\n",
    "The dataset is not significantly large (~1500 samples for the 5 leaf labels chosen in config.yml). \n",
    "- dropout, batch normalization, & limiting the number of linear neurons help significantly to reduce overfitting.\n",
    "\n",
    "\n",
    "See model_setup.py for the training algorithm. Core features are:\n",
    "- batch processing followed by accuracy metrics per epoch on the entire train and test data\n",
    "- learning rate scheduling (starts high and reduces by half every step_size=10 epochs)\n",
    "- early stopping from trainig plateaus or nearing overfitting when training accuracy reaches above 99.5%"
   ]
  },
  {
   "cell_type": "code",
   "execution_count": null,
   "metadata": {},
   "outputs": [],
   "source": [
    "import pandas as pd\n",
    "import matplotlib.pyplot as plt\n",
    "import torch\n",
    "from cudaq import spin\n",
    "from src.model_builder import build_and_run_nn\n",
    "\n",
    "quantum_layer = {\n",
    "    'hamiltonians': [spin.z(0) * spin.x(0), \n",
    "                     spin.z(1) * spin.x(1), \n",
    "                     spin.z(2) * spin.x(2), \n",
    "                     spin.z(3) * spin.x(3), \n",
    "                     spin.z(4) * spin.x(4)],\n",
    "\n",
    "    'shift': 10*torch.tensor(torch.pi / 4),\n",
    "    'quantum_param_init_scale': 0.1,\n",
    "    'features_per_qubit': 2,\n",
    "    'n_classes': 5}\n",
    "\n",
    "# Quantum ex.\n",
    "# result = build_and_run_nn('categories', \n",
    "#                           conv_channels_1=32, conv_channels_2=64, \n",
    "#                           fc_neurons_1=64, fc_neurons_2=32, \n",
    "#                           qubit_count=5, quantum_layer_args=quantum_layer)\n",
    "\n",
    "# Classical ex.\n",
    "result = build_and_run_nn('categories', \n",
    "                          conv_channels_1=32, conv_channels_2=64, \n",
    "                          fc_neurons_1=64, fc_neurons_2=32, \n",
    "                          qubit_count=None, quantum_layer_args=None)\n",
    "\n",
    "file_name = result[-1]\n",
    "print(result[-2])\n",
    "\n",
    "\n",
    "\n",
    "df = pd.read_csv(file_name + '.csv')\n",
    "\n",
    "plt.figure(figsize=(10, 5))\n",
    "plt.subplot(1, 2, 1)\n",
    "plt.plot(df['training_cost'], label='Train')\n",
    "plt.plot(df['testing_cost'], label='Test')\n",
    "plt.xlabel('Epochs')\n",
    "plt.ylabel('Cost')\n",
    "plt.legend()\n",
    "plt.xlim(0,)\n",
    "plt.ylim(0,)\n",
    "\n",
    "plt.subplot(1, 2, 2)\n",
    "plt.plot(df['training_accuracy'], label='Train')\n",
    "plt.plot(df['testing_accuracy'], label='Test')\n",
    "plt.xlabel('Epochs')\n",
    "plt.ylabel('Accuracy')\n",
    "plt.legend()\n",
    "plt.xlim(0,)\n",
    "plt.ylim(0,1.01)\n",
    "\n",
    "plt.tight_layout()\n",
    "plt.show()"
   ]
  },
  {
   "cell_type": "code",
   "execution_count": null,
   "metadata": {},
   "outputs": [],
   "source": []
  }
 ],
 "metadata": {
  "kernelspec": {
   "display_name": "Python 3",
   "language": "python",
   "name": "python3"
  },
  "language_info": {
   "codemirror_mode": {
    "name": "ipython",
    "version": 3
   },
   "file_extension": ".py",
   "mimetype": "text/x-python",
   "name": "python",
   "nbconvert_exporter": "python",
   "pygments_lexer": "ipython3",
   "version": "3.10.12"
  }
 },
 "nbformat": 4,
 "nbformat_minor": 2
}
