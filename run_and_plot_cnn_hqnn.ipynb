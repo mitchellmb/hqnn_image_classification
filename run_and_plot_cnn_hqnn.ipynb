{
 "cells": [
  {
   "cell_type": "markdown",
   "metadata": {},
   "source": [
    "## Creating and running the CNN or HQNN models on the plant leaves dataset\n",
    "\n",
    "CNN/HQNN setup: Code in hybrid_nn.py. Core features are:\n",
    "- 2 CNN layers with batch normalization followed by pooling \n",
    "- 2 fully connected linear layers for the classical route\n",
    "- Linear layer -> quantum layer -> linear layer for the hybrid-quantum route\n",
    "- Base parameters like learning rate, batch size, etc. are pre-defined in config.yml\n",
    "- The network was set up to be simple enough to allow the incorporation of a quantum layer to significantly impact the model's capability to learn patterns in the dataset. \n",
    "\n",
    "<br>\n",
    "\n",
    "Training algorithm: See model_setup.py for the code. Core features are:\n",
    "- CrossEntropyLoss for classifying multiple leaf categories\n",
    "- Batch processing followed by accuracy metrics per epoch on the entire train and test data\n",
    "- Learning rate scheduling (starts high and reduces by half every step_size=10 epochs)\n",
    "- Gradient clipping to prevent exploding gradients common in hybrid-quantum setups\n",
    "- Early stopping from trainig plateaus or nearing overfitting when training accuracy reaches above 99.5%\n",
    "\n",
    "<br>\n",
    "\n",
    "Wrapper function build_and_run_nn()\n",
    "- Classical CNN - pass None for qubit_count and quantum_layer_args\n",
    "- HQNN with a quantum layer - include the above arguments"
   ]
  },
  {
   "cell_type": "code",
   "execution_count": 2,
   "metadata": {},
   "outputs": [],
   "source": [
    "import pandas as pd\n",
    "import matplotlib.pyplot as plt\n",
    "import torch\n",
    "from cudaq import spin\n",
    "from src.model_builder import build_and_run_nn"
   ]
  },
  {
   "cell_type": "markdown",
   "metadata": {},
   "source": [
    "### Classical CNN notes:\n",
    "\n",
    "Datset size: The dataset is not large (~1500 samples for the 5 leaf labels chosen in config.yml). \n",
    "- These 5 leaves were chosen as they were the most visually distinct and differences between them could be captured by this relatively simple CNN setup. \n",
    "- However, with this few of samples, the CNN tends to memorize the dataset. Dropout, batch normalization, & limiting the number of linear neurons help significantly to reduce overfitting.\n",
    "- A larger data set would be better, but the purpose of this is to test if a HQNN reaches similar results to the CNN\n",
    "    - And if so, how complex does the quantum layer's kernel & hamiltonians need to be?"
   ]
  },
  {
   "cell_type": "code",
   "execution_count": null,
   "metadata": {},
   "outputs": [
    {
     "name": "stdout",
     "output_type": "stream",
     "text": [
      "Number of classes 5\n",
      "Y values (tensor(0), tensor(4))\n",
      "\n",
      "Epoch 0, Learning Rate: 0.0001\n"
     ]
    },
    {
     "name": "stderr",
     "output_type": "stream",
     "text": [
      "epoch 0: 100%|██████████| 30/30 [00:06<00:00,  4.31batch/s, acc=0.471, loss=1.32]\n"
     ]
    },
    {
     "name": "stdout",
     "output_type": "stream",
     "text": [
      "Training accuracy (all samples) = 0.434\n",
      "Test accuracy = 0.453\n",
      "\n",
      "Epoch 1, Learning Rate: 0.0001\n"
     ]
    },
    {
     "name": "stderr",
     "output_type": "stream",
     "text": [
      "epoch 1: 100%|██████████| 30/30 [00:07<00:00,  4.15batch/s, acc=0.706, loss=0.631]\n"
     ]
    },
    {
     "name": "stdout",
     "output_type": "stream",
     "text": [
      "Training accuracy (all samples) = 0.724\n",
      "Test accuracy = 0.688\n",
      "\n",
      "Epoch 2, Learning Rate: 0.0001\n"
     ]
    },
    {
     "name": "stderr",
     "output_type": "stream",
     "text": [
      "epoch 2: 100%|██████████| 30/30 [00:07<00:00,  4.12batch/s, acc=0.882, loss=0.192]\n"
     ]
    },
    {
     "name": "stdout",
     "output_type": "stream",
     "text": [
      "Training accuracy (all samples) = 0.923\n",
      "Test accuracy = 0.835\n",
      "\n",
      "Epoch 3, Learning Rate: 0.0001\n"
     ]
    },
    {
     "name": "stderr",
     "output_type": "stream",
     "text": [
      "epoch 3: 100%|██████████| 30/30 [00:07<00:00,  3.94batch/s, acc=0.882, loss=0.23]\n"
     ]
    },
    {
     "name": "stdout",
     "output_type": "stream",
     "text": [
      "Training accuracy (all samples) = 0.956\n",
      "Test accuracy = 0.857\n",
      "\n",
      "Epoch 4, Learning Rate: 0.0001\n"
     ]
    },
    {
     "name": "stderr",
     "output_type": "stream",
     "text": [
      "epoch 4: 100%|██████████| 30/30 [00:07<00:00,  4.11batch/s, acc=0.765, loss=0.334]\n"
     ]
    },
    {
     "name": "stdout",
     "output_type": "stream",
     "text": [
      "Training accuracy (all samples) = 0.970\n",
      "Test accuracy = 0.870\n",
      "\n",
      "Epoch 5, Learning Rate: 0.0001\n"
     ]
    },
    {
     "name": "stderr",
     "output_type": "stream",
     "text": [
      "epoch 5: 100%|██████████| 30/30 [00:07<00:00,  3.95batch/s, acc=0.882, loss=0.287]\n"
     ]
    },
    {
     "name": "stdout",
     "output_type": "stream",
     "text": [
      "Training accuracy (all samples) = 0.980\n",
      "Test accuracy = 0.868\n",
      "\n",
      "Epoch 6, Learning Rate: 0.0001\n"
     ]
    },
    {
     "name": "stderr",
     "output_type": "stream",
     "text": [
      "epoch 6: 100%|██████████| 30/30 [00:07<00:00,  4.17batch/s, acc=0.941, loss=0.224]\n"
     ]
    },
    {
     "name": "stdout",
     "output_type": "stream",
     "text": [
      "Training accuracy (all samples) = 0.980\n",
      "Test accuracy = 0.876\n",
      "\n",
      "Epoch 7, Learning Rate: 0.0001\n"
     ]
    },
    {
     "name": "stderr",
     "output_type": "stream",
     "text": [
      "epoch 7: 100%|██████████| 30/30 [00:07<00:00,  4.03batch/s, acc=0.882, loss=0.287]\n"
     ]
    },
    {
     "name": "stdout",
     "output_type": "stream",
     "text": [
      "Training accuracy (all samples) = 0.983\n",
      "Test accuracy = 0.884\n",
      "\n",
      "Epoch 8, Learning Rate: 0.0001\n"
     ]
    },
    {
     "name": "stderr",
     "output_type": "stream",
     "text": [
      "epoch 8: 100%|██████████| 30/30 [00:07<00:00,  4.07batch/s, acc=1, loss=0.0544]  \n"
     ]
    },
    {
     "name": "stdout",
     "output_type": "stream",
     "text": [
      "Training accuracy (all samples) = 0.983\n",
      "Test accuracy = 0.878\n",
      "\n",
      "Epoch 9, Learning Rate: 0.0001\n"
     ]
    },
    {
     "name": "stderr",
     "output_type": "stream",
     "text": [
      "epoch 9: 100%|██████████| 30/30 [00:07<00:00,  4.09batch/s, acc=0.882, loss=0.404]\n"
     ]
    },
    {
     "name": "stdout",
     "output_type": "stream",
     "text": [
      "Training accuracy (all samples) = 0.984\n",
      "Test accuracy = 0.871\n",
      "\n",
      "Epoch 10, Learning Rate: 5e-05\n"
     ]
    },
    {
     "name": "stderr",
     "output_type": "stream",
     "text": [
      "epoch 10: 100%|██████████| 30/30 [00:07<00:00,  4.08batch/s, acc=0.882, loss=0.605]\n"
     ]
    },
    {
     "name": "stdout",
     "output_type": "stream",
     "text": [
      "Training accuracy (all samples) = 0.988\n",
      "Test accuracy = 0.870\n",
      "\n",
      "Epoch 11, Learning Rate: 5e-05\n"
     ]
    },
    {
     "name": "stderr",
     "output_type": "stream",
     "text": [
      "epoch 11: 100%|██████████| 30/30 [00:07<00:00,  4.07batch/s, acc=0.765, loss=0.515]\n"
     ]
    },
    {
     "name": "stdout",
     "output_type": "stream",
     "text": [
      "Training accuracy (all samples) = 0.990\n",
      "Test accuracy = 0.876\n",
      "\n",
      "Epoch 12, Learning Rate: 5e-05\n"
     ]
    },
    {
     "name": "stderr",
     "output_type": "stream",
     "text": [
      "epoch 12: 100%|██████████| 30/30 [00:07<00:00,  4.06batch/s, acc=1, loss=0.0123]   \n"
     ]
    },
    {
     "name": "stdout",
     "output_type": "stream",
     "text": [
      "Training accuracy (all samples) = 0.991\n",
      "Test accuracy = 0.881\n",
      "\n",
      "Epoch 13, Learning Rate: 5e-05\n"
     ]
    },
    {
     "name": "stderr",
     "output_type": "stream",
     "text": [
      "epoch 13: 100%|██████████| 30/30 [00:07<00:00,  3.92batch/s, acc=0.941, loss=0.124]\n"
     ]
    },
    {
     "name": "stdout",
     "output_type": "stream",
     "text": [
      "Training accuracy (all samples) = 0.993\n",
      "Test accuracy = 0.886\n",
      "\n",
      "Epoch 14, Learning Rate: 5e-05\n"
     ]
    },
    {
     "name": "stderr",
     "output_type": "stream",
     "text": [
      "epoch 14: 100%|██████████| 30/30 [00:07<00:00,  3.99batch/s, acc=0.824, loss=0.205]\n"
     ]
    },
    {
     "name": "stdout",
     "output_type": "stream",
     "text": [
      "Training accuracy (all samples) = 0.995\n",
      "Test accuracy = 0.878\n",
      "\n",
      "Epoch 15, Learning Rate: 5e-05\n"
     ]
    },
    {
     "name": "stderr",
     "output_type": "stream",
     "text": [
      "epoch 15: 100%|██████████| 30/30 [00:07<00:00,  4.09batch/s, acc=0.824, loss=0.627]\n"
     ]
    },
    {
     "name": "stdout",
     "output_type": "stream",
     "text": [
      "Training accuracy (all samples) = 0.995\n",
      "Test accuracy = 0.887\n",
      "\n",
      "Epoch 16, Learning Rate: 5e-05\n"
     ]
    },
    {
     "name": "stderr",
     "output_type": "stream",
     "text": [
      "epoch 16: 100%|██████████| 30/30 [00:07<00:00,  4.01batch/s, acc=0.941, loss=0.12] \n"
     ]
    },
    {
     "name": "stdout",
     "output_type": "stream",
     "text": [
      "Training accuracy (all samples) = 0.995\n",
      "Test accuracy = 0.887\n",
      "\n",
      "Epoch 17, Learning Rate: 5e-05\n"
     ]
    },
    {
     "name": "stderr",
     "output_type": "stream",
     "text": [
      "epoch 17: 100%|██████████| 30/30 [00:07<00:00,  3.98batch/s, acc=1, loss=0.0383]   \n"
     ]
    },
    {
     "name": "stdout",
     "output_type": "stream",
     "text": [
      "Training accuracy (all samples) = 0.993\n",
      "Test accuracy = 0.881\n",
      "\n",
      "Epoch 18, Learning Rate: 5e-05\n"
     ]
    },
    {
     "name": "stderr",
     "output_type": "stream",
     "text": [
      "epoch 18: 100%|██████████| 30/30 [00:07<00:00,  4.16batch/s, acc=0.941, loss=0.0832]\n"
     ]
    },
    {
     "name": "stdout",
     "output_type": "stream",
     "text": [
      "Training accuracy (all samples) = 0.993\n",
      "Test accuracy = 0.882\n",
      "\n",
      "Epoch 19, Learning Rate: 5e-05\n"
     ]
    },
    {
     "name": "stderr",
     "output_type": "stream",
     "text": [
      "epoch 19: 100%|██████████| 30/30 [00:07<00:00,  4.08batch/s, acc=0.824, loss=0.619]\n"
     ]
    },
    {
     "name": "stdout",
     "output_type": "stream",
     "text": [
      "Training accuracy (all samples) = 0.995\n",
      "Test accuracy = 0.874\n",
      "\n",
      "Early stopping at epoch 19, training accuracy > 99.5%.\n",
      "Saved neural network fitting results and model to ./data/traditional_nn_1744913895\n"
     ]
    }
   ],
   "source": [
    "# Run the wrapper function to load augmented dataset & run CNN/HQNN\n",
    "\n",
    "# Classical ex.\n",
    "result = build_and_run_nn('categories', \n",
    "                          conv_channels_1=32, conv_channels_2=64, \n",
    "                          fc_neurons_1=128, fc_neurons_2=64, \n",
    "                          qubit_count=None, quantum_layer_args=None)"
   ]
  },
  {
   "cell_type": "code",
   "execution_count": 2,
   "metadata": {},
   "outputs": [
    {
     "name": "stdout",
     "output_type": "stream",
     "text": [
      "HybridNN(\n",
      "  (conv1): Conv2d(3, 32, kernel_size=(3, 3), stride=(1, 1), padding=(1, 1))\n",
      "  (bn1): BatchNorm2d(32, eps=1e-05, momentum=0.1, affine=True, track_running_stats=True)\n",
      "  (pool): MaxPool2d(kernel_size=2, stride=2, padding=0, dilation=1, ceil_mode=False)\n",
      "  (conv2): Conv2d(32, 64, kernel_size=(3, 3), stride=(1, 1), padding=(1, 1))\n",
      "  (bn2): BatchNorm2d(64, eps=1e-05, momentum=0.1, affine=True, track_running_stats=True)\n",
      "  (fc1): Linear(in_features=161280, out_features=128, bias=True)\n",
      "  (fc2): Linear(in_features=128, out_features=64, bias=True)\n",
      "  (fc_out): Linear(in_features=64, out_features=5, bias=True)\n",
      "  (dropout): Dropout(p=0.5, inplace=False)\n",
      ")\n"
     ]
    },
    {
     "data": {
      "image/png": "[encoded data removed]",
      "text/plain": [
       "<Figure size 1000x500 with 2 Axes>"
      ]
     },
     "metadata": {},
     "output_type": "display_data"
    }
   ],
   "source": [
    "file_name = result[-1]\n",
    "print(result[-2])\n",
    "\n",
    "df = pd.read_csv(file_name + '.csv')\n",
    "\n",
    "plt.figure(figsize=(10, 5))\n",
    "plt.subplot(1, 2, 1)\n",
    "plt.plot(df['training_cost'], label='Train')\n",
    "plt.plot(df['testing_cost'], label='Test')\n",
    "plt.xlabel('Epochs')\n",
    "plt.ylabel('Cost')\n",
    "plt.legend()\n",
    "plt.xlim(0,)\n",
    "plt.ylim(0,)\n",
    "\n",
    "plt.subplot(1, 2, 2)\n",
    "plt.plot(df['training_accuracy'], label='Train')\n",
    "plt.plot(df['testing_accuracy'], label='Test')\n",
    "plt.xlabel('Epochs')\n",
    "plt.ylabel('Accuracy')\n",
    "plt.legend()\n",
    "plt.xlim(0,)\n",
    "plt.ylim(0,1.01)\n",
    "\n",
    "plt.tight_layout()\n",
    "plt.show()"
   ]
  },
  {
   "cell_type": "markdown",
   "metadata": {},
   "source": [
    "### HQNN notes (work-in-progress)\n",
    "- training in early epochs is quite noisy, which is expcted as small shifts in input parameters into the quantum layer can drastically impact expectation value outputs\n",
    "- gradients are non-zero and flowing through the quantum circuit, however:\n",
    "    - the current combination of hamiltonians & quantum kernel is not expressive enough to adapt to 5 classes, resulting in an early plateau with a loss ~1.6 which is expected selecting 1 of the 5 classes at random"
   ]
  },
  {
   "cell_type": "code",
   "execution_count": 1,
   "metadata": {},
   "outputs": [
    {
     "name": "stdout",
     "output_type": "stream",
     "text": [
      "Number of classes 5\n",
      "Y values (tensor(0), tensor(4))\n",
      "\n",
      "Epoch 0, Learning Rate: 0.01\n"
     ]
    },
    {
     "name": "stderr",
     "output_type": "stream",
     "text": [
      "epoch 0: 100%|██████████| 15/15 [00:31<00:00,  2.09s/batch, acc=0.239, loss=1.6]\n"
     ]
    },
    {
     "name": "stdout",
     "output_type": "stream",
     "text": [
      "Training accuracy (all samples) = 0.204\n",
      "Test accuracy = 0.215\n",
      "\n",
      "Epoch 1, Learning Rate: 0.01\n"
     ]
    },
    {
     "name": "stderr",
     "output_type": "stream",
     "text": [
      "epoch 1: 100%|██████████| 15/15 [00:30<00:00,  2.05s/batch, acc=0.313, loss=1.58]\n"
     ]
    },
    {
     "name": "stdout",
     "output_type": "stream",
     "text": [
      "Training accuracy (all samples) = 0.304\n",
      "Test accuracy = 0.283\n",
      "\n",
      "Epoch 2, Learning Rate: 0.01\n"
     ]
    },
    {
     "name": "stderr",
     "output_type": "stream",
     "text": [
      "epoch 2: 100%|██████████| 15/15 [00:30<00:00,  2.04s/batch, acc=0.313, loss=1.57]\n"
     ]
    },
    {
     "name": "stdout",
     "output_type": "stream",
     "text": [
      "Training accuracy (all samples) = 0.304\n",
      "Test accuracy = 0.283\n",
      "\n",
      "Epoch 3, Learning Rate: 0.01\n"
     ]
    },
    {
     "name": "stderr",
     "output_type": "stream",
     "text": [
      "epoch 3: 100%|██████████| 15/15 [00:31<00:00,  2.11s/batch, acc=0.313, loss=1.57]\n"
     ]
    },
    {
     "name": "stdout",
     "output_type": "stream",
     "text": [
      "Training accuracy (all samples) = 0.304\n",
      "Test accuracy = 0.283\n",
      "\n",
      "Epoch 4, Learning Rate: 0.01\n"
     ]
    },
    {
     "name": "stderr",
     "output_type": "stream",
     "text": [
      "epoch 4: 100%|██████████| 15/15 [00:30<00:00,  2.05s/batch, acc=0.313, loss=1.57]\n"
     ]
    },
    {
     "name": "stdout",
     "output_type": "stream",
     "text": [
      "Training accuracy (all samples) = 0.304\n",
      "Test accuracy = 0.283\n",
      "\n",
      "Epoch 5, Learning Rate: 0.01\n"
     ]
    },
    {
     "name": "stderr",
     "output_type": "stream",
     "text": [
      "epoch 5: 100%|██████████| 15/15 [00:30<00:00,  2.04s/batch, acc=0.313, loss=1.57]\n"
     ]
    },
    {
     "name": "stdout",
     "output_type": "stream",
     "text": [
      "Training accuracy (all samples) = 0.304\n",
      "Test accuracy = 0.283\n",
      "\n",
      "Epoch 6, Learning Rate: 0.01\n"
     ]
    },
    {
     "name": "stderr",
     "output_type": "stream",
     "text": [
      "epoch 6: 100%|██████████| 15/15 [00:30<00:00,  2.05s/batch, acc=0.313, loss=1.57]\n"
     ]
    },
    {
     "name": "stdout",
     "output_type": "stream",
     "text": [
      "Training accuracy (all samples) = 0.304\n",
      "Test accuracy = 0.283\n",
      "\n",
      "Epoch 7, Learning Rate: 0.01\n"
     ]
    },
    {
     "name": "stderr",
     "output_type": "stream",
     "text": [
      "epoch 7: 100%|██████████| 15/15 [00:30<00:00,  2.04s/batch, acc=0.313, loss=1.57]\n"
     ]
    },
    {
     "name": "stdout",
     "output_type": "stream",
     "text": [
      "Training accuracy (all samples) = 0.304\n",
      "Test accuracy = 0.283\n",
      "\n",
      "Epoch 8, Learning Rate: 0.01\n"
     ]
    },
    {
     "name": "stderr",
     "output_type": "stream",
     "text": [
      "epoch 8: 100%|██████████| 15/15 [00:30<00:00,  2.04s/batch, acc=0.313, loss=1.57]\n"
     ]
    },
    {
     "name": "stdout",
     "output_type": "stream",
     "text": [
      "Training accuracy (all samples) = 0.304\n",
      "Test accuracy = 0.283\n",
      "\n",
      "Epoch 9, Learning Rate: 0.01\n"
     ]
    },
    {
     "name": "stderr",
     "output_type": "stream",
     "text": [
      "epoch 9: 100%|██████████| 15/15 [00:29<00:00,  2.00s/batch, acc=0.313, loss=1.57]\n"
     ]
    },
    {
     "name": "stdout",
     "output_type": "stream",
     "text": [
      "Training accuracy (all samples) = 0.304\n",
      "Test accuracy = 0.283\n",
      "\n",
      "Epoch 10, Learning Rate: 0.005\n"
     ]
    },
    {
     "name": "stderr",
     "output_type": "stream",
     "text": [
      "epoch 10: 100%|██████████| 15/15 [00:32<00:00,  2.16s/batch, acc=0.313, loss=1.57]\n"
     ]
    },
    {
     "name": "stdout",
     "output_type": "stream",
     "text": [
      "Training accuracy (all samples) = 0.304\n",
      "Test accuracy = 0.283\n",
      "\n",
      "Epoch 11, Learning Rate: 0.005\n"
     ]
    },
    {
     "name": "stderr",
     "output_type": "stream",
     "text": [
      "epoch 11: 100%|██████████| 15/15 [00:31<00:00,  2.09s/batch, acc=0.313, loss=1.57]\n"
     ]
    },
    {
     "name": "stdout",
     "output_type": "stream",
     "text": [
      "Training accuracy (all samples) = 0.304\n",
      "Test accuracy = 0.283\n",
      "\n",
      "Epoch 12, Learning Rate: 0.005\n"
     ]
    },
    {
     "name": "stderr",
     "output_type": "stream",
     "text": [
      "epoch 12: 100%|██████████| 15/15 [00:30<00:00,  2.04s/batch, acc=0.313, loss=1.57]\n"
     ]
    },
    {
     "name": "stdout",
     "output_type": "stream",
     "text": [
      "Training accuracy (all samples) = 0.304\n",
      "Test accuracy = 0.283\n",
      "\n",
      "Epoch 13, Learning Rate: 0.005\n"
     ]
    },
    {
     "name": "stderr",
     "output_type": "stream",
     "text": [
      "epoch 13: 100%|██████████| 15/15 [00:30<00:00,  2.06s/batch, acc=0.313, loss=1.57]\n"
     ]
    },
    {
     "name": "stdout",
     "output_type": "stream",
     "text": [
      "Training accuracy (all samples) = 0.304\n",
      "Test accuracy = 0.283\n",
      "\n",
      "Epoch 14, Learning Rate: 0.005\n"
     ]
    },
    {
     "name": "stderr",
     "output_type": "stream",
     "text": [
      "epoch 14: 100%|██████████| 15/15 [00:30<00:00,  2.04s/batch, acc=0.313, loss=1.57]\n"
     ]
    },
    {
     "name": "stdout",
     "output_type": "stream",
     "text": [
      "Training accuracy (all samples) = 0.304\n",
      "Test accuracy = 0.283\n",
      "\n",
      "Epoch 15, Learning Rate: 0.005\n"
     ]
    },
    {
     "name": "stderr",
     "output_type": "stream",
     "text": [
      "epoch 15: 100%|██████████| 15/15 [00:30<00:00,  2.02s/batch, acc=0.313, loss=1.57]\n"
     ]
    },
    {
     "name": "stdout",
     "output_type": "stream",
     "text": [
      "Training accuracy (all samples) = 0.304\n",
      "Test accuracy = 0.283\n",
      "\n",
      "Epoch 16, Learning Rate: 0.005\n"
     ]
    },
    {
     "name": "stderr",
     "output_type": "stream",
     "text": [
      "epoch 16: 100%|██████████| 15/15 [00:30<00:00,  2.00s/batch, acc=0.313, loss=1.57]\n"
     ]
    },
    {
     "name": "stdout",
     "output_type": "stream",
     "text": [
      "Training accuracy (all samples) = 0.304\n",
      "Test accuracy = 0.283\n",
      "\n",
      "Epoch 17, Learning Rate: 0.005\n"
     ]
    },
    {
     "name": "stderr",
     "output_type": "stream",
     "text": [
      "epoch 17: 100%|██████████| 15/15 [00:31<00:00,  2.08s/batch, acc=0.313, loss=1.57]\n"
     ]
    },
    {
     "name": "stdout",
     "output_type": "stream",
     "text": [
      "Training accuracy (all samples) = 0.304\n",
      "Test accuracy = 0.283\n",
      "\n",
      "Epoch 18, Learning Rate: 0.005\n"
     ]
    },
    {
     "name": "stderr",
     "output_type": "stream",
     "text": [
      "epoch 18: 100%|██████████| 15/15 [00:31<00:00,  2.11s/batch, acc=0.313, loss=1.57]\n"
     ]
    },
    {
     "name": "stdout",
     "output_type": "stream",
     "text": [
      "Training accuracy (all samples) = 0.304\n",
      "Test accuracy = 0.283\n",
      "\n",
      "Epoch 19, Learning Rate: 0.005\n"
     ]
    },
    {
     "name": "stderr",
     "output_type": "stream",
     "text": [
      "epoch 19: 100%|██████████| 15/15 [00:30<00:00,  2.03s/batch, acc=0.313, loss=1.57]\n"
     ]
    },
    {
     "name": "stdout",
     "output_type": "stream",
     "text": [
      "Training accuracy (all samples) = 0.304\n",
      "Test accuracy = 0.283\n",
      "\n",
      "Epoch 20, Learning Rate: 0.0025\n"
     ]
    },
    {
     "name": "stderr",
     "output_type": "stream",
     "text": [
      "epoch 20: 100%|██████████| 15/15 [00:30<00:00,  2.04s/batch, acc=0.313, loss=1.57]\n"
     ]
    },
    {
     "name": "stdout",
     "output_type": "stream",
     "text": [
      "Training accuracy (all samples) = 0.304\n",
      "Test accuracy = 0.283\n",
      "\n",
      "Epoch 21, Learning Rate: 0.0025\n"
     ]
    },
    {
     "name": "stderr",
     "output_type": "stream",
     "text": [
      "epoch 21: 100%|██████████| 15/15 [00:30<00:00,  2.06s/batch, acc=0.313, loss=1.57]\n"
     ]
    },
    {
     "name": "stdout",
     "output_type": "stream",
     "text": [
      "Training accuracy (all samples) = 0.304\n",
      "Test accuracy = 0.283\n",
      "\n",
      "Epoch 22, Learning Rate: 0.0025\n"
     ]
    },
    {
     "name": "stderr",
     "output_type": "stream",
     "text": [
      "epoch 22: 100%|██████████| 15/15 [00:30<00:00,  2.05s/batch, acc=0.313, loss=1.57]\n"
     ]
    },
    {
     "name": "stdout",
     "output_type": "stream",
     "text": [
      "Training accuracy (all samples) = 0.304\n",
      "Test accuracy = 0.283\n",
      "\n",
      "Epoch 23, Learning Rate: 0.0025\n"
     ]
    },
    {
     "name": "stderr",
     "output_type": "stream",
     "text": [
      "epoch 23: 100%|██████████| 15/15 [00:30<00:00,  2.03s/batch, acc=0.313, loss=1.57]\n"
     ]
    },
    {
     "name": "stdout",
     "output_type": "stream",
     "text": [
      "Training accuracy (all samples) = 0.304\n",
      "Test accuracy = 0.283\n",
      "\n",
      "Epoch 24, Learning Rate: 0.0025\n"
     ]
    },
    {
     "name": "stderr",
     "output_type": "stream",
     "text": [
      "epoch 24: 100%|██████████| 15/15 [00:31<00:00,  2.09s/batch, acc=0.313, loss=1.57]\n"
     ]
    },
    {
     "name": "stdout",
     "output_type": "stream",
     "text": [
      "Training accuracy (all samples) = 0.304\n",
      "Test accuracy = 0.283\n",
      "\n",
      "Epoch 25, Learning Rate: 0.0025\n"
     ]
    },
    {
     "name": "stderr",
     "output_type": "stream",
     "text": [
      "epoch 25: 100%|██████████| 15/15 [00:32<00:00,  2.14s/batch, acc=0.313, loss=1.57]\n"
     ]
    },
    {
     "name": "stdout",
     "output_type": "stream",
     "text": [
      "Training accuracy (all samples) = 0.304\n",
      "Test accuracy = 0.283\n",
      "\n",
      "Epoch 26, Learning Rate: 0.0025\n"
     ]
    },
    {
     "name": "stderr",
     "output_type": "stream",
     "text": [
      "epoch 26: 100%|██████████| 15/15 [00:30<00:00,  2.03s/batch, acc=0.313, loss=1.57]\n"
     ]
    },
    {
     "name": "stdout",
     "output_type": "stream",
     "text": [
      "Training accuracy (all samples) = 0.304\n",
      "Test accuracy = 0.283\n",
      "\n",
      "Early stopping at epoch 26 due to training accuracy plateau.\n",
      "Saved neural network fitting results and model to ./data/hybrid_quantum_nn_1744915596\n"
     ]
    }
   ],
   "source": [
    "import pandas as pd\n",
    "import matplotlib.pyplot as plt\n",
    "import torch\n",
    "from cudaq import spin\n",
    "from src.model_builder import build_and_run_nn\n",
    "\n",
    "quantum_layer = {\n",
    "    'hamiltonians': [spin.z(0) * spin.x(0), \n",
    "                     spin.z(1) * spin.x(1), \n",
    "                     spin.z(2) * spin.x(2), \n",
    "                     spin.z(3) * spin.x(3), \n",
    "                     spin.z(4) * spin.x(4)],\n",
    "\n",
    "    'shift': torch.tensor(torch.pi / 4),\n",
    "    'quantum_param_init_scale': 10,\n",
    "    'features_per_qubit': 2,\n",
    "    'n_classes': 5}\n",
    "\n",
    "# Quantum ex.\n",
    "result = build_and_run_nn('categories', \n",
    "                          conv_channels_1=32, conv_channels_2=64, \n",
    "                          fc_neurons_1=256, fc_neurons_2=64, \n",
    "                          qubit_count=5, quantum_layer_args=quantum_layer)"
   ]
  },
  {
   "cell_type": "code",
   "execution_count": 2,
   "metadata": {},
   "outputs": [
    {
     "name": "stdout",
     "output_type": "stream",
     "text": [
      "HybridNN(\n",
      "  (conv1): Conv2d(3, 32, kernel_size=(3, 3), stride=(1, 1), padding=(1, 1))\n",
      "  (bn1): BatchNorm2d(32, eps=1e-05, momentum=0.1, affine=True, track_running_stats=True)\n",
      "  (pool): MaxPool2d(kernel_size=2, stride=2, padding=0, dilation=1, ceil_mode=False)\n",
      "  (conv2): Conv2d(32, 64, kernel_size=(3, 3), stride=(1, 1), padding=(1, 1))\n",
      "  (bn2): BatchNorm2d(64, eps=1e-05, momentum=0.1, affine=True, track_running_stats=True)\n",
      "  (fc1): Linear(in_features=161280, out_features=256, bias=True)\n",
      "  (fc2): Linear(in_features=256, out_features=10, bias=True)\n",
      "  (quantum): QuantumLayer()\n",
      "  (fc_out): Linear(in_features=5, out_features=5, bias=True)\n",
      "  (dropout): Dropout(p=0.1, inplace=False)\n",
      ")\n"
     ]
    },
    {
     "data": {
      "image/png": "[encoded data removed]",
      "text/plain": [
       "<Figure size 1000x500 with 2 Axes>"
      ]
     },
     "metadata": {},
     "output_type": "display_data"
    }
   ],
   "source": [
    "file_name = result[-1]\n",
    "print(result[-2])\n",
    "\n",
    "df = pd.read_csv(file_name + '.csv')\n",
    "\n",
    "plt.figure(figsize=(10, 5))\n",
    "plt.subplot(1, 2, 1)\n",
    "plt.plot(df['training_cost'], label='Train')\n",
    "plt.plot(df['testing_cost'], label='Test')\n",
    "plt.xlabel('Epochs')\n",
    "plt.ylabel('Cost')\n",
    "plt.legend()\n",
    "plt.xlim(0,)\n",
    "plt.ylim(0,)\n",
    "\n",
    "plt.subplot(1, 2, 2)\n",
    "plt.plot(df['training_accuracy'], label='Train')\n",
    "plt.plot(df['testing_accuracy'], label='Test')\n",
    "plt.xlabel('Epochs')\n",
    "plt.ylabel('Accuracy')\n",
    "plt.legend()\n",
    "plt.xlim(0,)\n",
    "plt.ylim(0,1.01)\n",
    "\n",
    "plt.tight_layout()\n",
    "plt.show()"
   ]
  },
  {
   "cell_type": "markdown",
   "metadata": {},
   "source": []
  },
  {
   "cell_type": "markdown",
   "metadata": {},
   "source": []
  }
 ],
 "metadata": {
  "kernelspec": {
   "display_name": "Python 3",
   "language": "python",
   "name": "python3"
  },
  "language_info": {
   "codemirror_mode": {
    "name": "ipython",
    "version": 3
   },
   "file_extension": ".py",
   "mimetype": "text/x-python",
   "name": "python",
   "nbconvert_exporter": "python",
   "pygments_lexer": "ipython3",
   "version": "3.10.12"
  }
 },
 "nbformat": 4,
 "nbformat_minor": 2
}
